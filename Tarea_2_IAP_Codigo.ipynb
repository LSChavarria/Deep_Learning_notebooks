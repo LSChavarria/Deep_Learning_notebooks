{
  "nbformat": 4,
  "nbformat_minor": 0,
  "metadata": {
    "colab": {
      "name": "Untitled2 (1).ipynb",
      "provenance": [],
      "collapsed_sections": []
    },
    "kernelspec": {
      "name": "python3",
      "display_name": "Python 3"
    },
    "accelerator": "TPU"
  },
  "cells": [
    {
      "cell_type": "code",
      "metadata": {
        "id": "Di5YrlqWzQPi"
      },
      "source": [
        "import tensorflow as tf\r\n",
        "import matplotlib.pyplot as plt\r\n",
        "from sklearn.model_selection import train_test_split\r\n",
        "from tensorflow.keras.models import Sequential\r\n",
        "from tensorflow.keras.layers import Dense, Conv2D, Dropout, Flatten, MaxPooling2D\r\n",
        "from tensorflow.keras.preprocessing.image import load_img, img_to_array\r\n",
        "import numpy as np"
      ],
      "execution_count": 1,
      "outputs": []
    },
    {
      "cell_type": "code",
      "metadata": {
        "id": "yxNUuBpHzXRZ",
        "colab": {
          "base_uri": "https://localhost:8080/"
        },
        "outputId": "e52f5fd0-2577-4953-fddb-269421805655"
      },
      "source": [
        "\r\n",
        "(x_train, y_train), (x_test, y_test) = tf.keras.datasets.mnist.load_data()\r\n",
        "x_train, x_val, y_train, y_val = train_test_split(x_train, y_train, test_size = 0.05, random_state = 0)\r\n",
        "x_val=x_val.reshape((3000, 28, 28,1))"
      ],
      "execution_count": 2,
      "outputs": [
        {
          "output_type": "stream",
          "text": [
            "Downloading data from https://storage.googleapis.com/tensorflow/tf-keras-datasets/mnist.npz\n",
            "11493376/11490434 [==============================] - 0s 0us/step\n"
          ],
          "name": "stdout"
        }
      ]
    },
    {
      "cell_type": "code",
      "metadata": {
        "id": "GhqbOm2_NWGQ"
      },
      "source": [
        "def normalize(data):\r\n",
        " data = data.astype(\"float32\")\r\n",
        " data = data/255.0\r\n",
        " return data"
      ],
      "execution_count": 3,
      "outputs": []
    },
    {
      "cell_type": "code",
      "metadata": {
        "id": "TgJSpDIsNW-2"
      },
      "source": [
        "x_val = normalize(x_val)"
      ],
      "execution_count": 4,
      "outputs": []
    },
    {
      "cell_type": "code",
      "metadata": {
        "colab": {
          "base_uri": "https://localhost:8080/"
        },
        "id": "QSk02DMjzajS",
        "outputId": "2d53c934-8432-4101-946d-174f1e3f31b8"
      },
      "source": [
        "# Reshaping the array to 4-dims so that it can work with the Keras API\r\n",
        "x_train = x_train.reshape(x_train.shape[0], 28, 28, 1)\r\n",
        "x_test = x_test.reshape(x_test.shape[0], 28, 28, 1)\r\n",
        "input_shape = (28, 28, 1)\r\n",
        "# Making sure that the values are float so that we can get decimal points after division\r\n",
        "x_train = x_train.astype('float32')\r\n",
        "x_test = x_test.astype('float32')\r\n",
        "# Normalizing the RGB codes by dividing it to the max RGB value.\r\n",
        "x_train /= 255\r\n",
        "x_test /= 255\r\n",
        "print('x_train shape:', x_train.shape)\r\n",
        "print('Number of images in x_train', x_train.shape[0])\r\n",
        "print('Number of images in x_test', x_test.shape[0])"
      ],
      "execution_count": 5,
      "outputs": [
        {
          "output_type": "stream",
          "text": [
            "x_train shape: (57000, 28, 28, 1)\n",
            "Number of images in x_train 57000\n",
            "Number of images in x_test 10000\n"
          ],
          "name": "stdout"
        }
      ]
    },
    {
      "cell_type": "code",
      "metadata": {
        "id": "ZMa123yQzcsM"
      },
      "source": [
        "# Creating a Sequential Model and adding the layers\r\n",
        "model = Sequential()\r\n",
        "model.add(Conv2D(28, kernel_size=(3,3), input_shape=(input_shape)))\r\n",
        "model.add(MaxPooling2D(pool_size=(2, 2)))\r\n",
        "model.add(Flatten()) # Flattening the 2D arrays for fully connected layers\r\n",
        "model.add(Dense(128, activation=tf.nn.relu))\r\n",
        "model.add(Dropout(0.2))\r\n",
        "model.add(Dense(10,activation=tf.nn.softmax))"
      ],
      "execution_count": 6,
      "outputs": []
    },
    {
      "cell_type": "code",
      "metadata": {
        "id": "vYn0_bkezfHO"
      },
      "source": [
        "model.compile(optimizer='adam', loss='sparse_categorical_crossentropy', metrics=['accuracy'])"
      ],
      "execution_count": 7,
      "outputs": []
    },
    {
      "cell_type": "code",
      "metadata": {
        "colab": {
          "base_uri": "https://localhost:8080/"
        },
        "id": "68DMhgMd832p",
        "outputId": "39726bdb-0eee-42de-f3f6-1a6b7ee6549a"
      },
      "source": [
        "r = model.fit(x_train, y_train, batch_size = 32, epochs = 10, validation_data = (x_val, y_val)) "
      ],
      "execution_count": 8,
      "outputs": [
        {
          "output_type": "stream",
          "text": [
            "Epoch 1/10\n",
            "1782/1782 [==============================] - 29s 16ms/step - loss: 0.3858 - accuracy: 0.8838 - val_loss: 0.0850 - val_accuracy: 0.9730\n",
            "Epoch 2/10\n",
            "1782/1782 [==============================] - 28s 16ms/step - loss: 0.0934 - accuracy: 0.9713 - val_loss: 0.0679 - val_accuracy: 0.9790\n",
            "Epoch 3/10\n",
            "1782/1782 [==============================] - 29s 16ms/step - loss: 0.0589 - accuracy: 0.9819 - val_loss: 0.0531 - val_accuracy: 0.9827\n",
            "Epoch 4/10\n",
            "1782/1782 [==============================] - 29s 16ms/step - loss: 0.0435 - accuracy: 0.9864 - val_loss: 0.0565 - val_accuracy: 0.9830\n",
            "Epoch 5/10\n",
            "1782/1782 [==============================] - 30s 17ms/step - loss: 0.0352 - accuracy: 0.9890 - val_loss: 0.0537 - val_accuracy: 0.9840\n",
            "Epoch 6/10\n",
            "1782/1782 [==============================] - 29s 16ms/step - loss: 0.0290 - accuracy: 0.9903 - val_loss: 0.0409 - val_accuracy: 0.9863\n",
            "Epoch 7/10\n",
            "1782/1782 [==============================] - 29s 17ms/step - loss: 0.0235 - accuracy: 0.9922 - val_loss: 0.0604 - val_accuracy: 0.9840\n",
            "Epoch 8/10\n",
            "1782/1782 [==============================] - 29s 17ms/step - loss: 0.0218 - accuracy: 0.9930 - val_loss: 0.0580 - val_accuracy: 0.9853\n",
            "Epoch 9/10\n",
            "1782/1782 [==============================] - 30s 17ms/step - loss: 0.0183 - accuracy: 0.9944 - val_loss: 0.0468 - val_accuracy: 0.9837\n",
            "Epoch 10/10\n",
            "1782/1782 [==============================] - 30s 17ms/step - loss: 0.0164 - accuracy: 0.9941 - val_loss: 0.0554 - val_accuracy: 0.9857\n"
          ],
          "name": "stdout"
        }
      ]
    },
    {
      "cell_type": "code",
      "metadata": {
        "colab": {
          "base_uri": "https://localhost:8080/",
          "height": 624
        },
        "id": "EEAn1Eu32G6m",
        "outputId": "e1dd3212-d95e-4425-c081-a69aa0ec8a6b"
      },
      "source": [
        "acc = model.evaluate(x_test, y_test)\r\n",
        "print(\"test set loss : \", acc[0])\r\n",
        "print(\"test set accuracy :\", acc[1]*100)\r\n",
        "epoch_range = range(1, 11)\r\n",
        "plt.plot(epoch_range, r.history['accuracy'])\r\n",
        "plt.plot(epoch_range, r.history['val_accuracy'])\r\n",
        "plt.title('Classification Accuracy')\r\n",
        "plt.ylabel('Accuracy')\r\n",
        "plt.xlabel('Epoch')\r\n",
        "plt.legend(['Train', 'Val'], loc='lower right')\r\n",
        "plt.show()\r\n",
        "# Plot training & validation loss values\r\n",
        "plt.plot(epoch_range,r.history['loss'])\r\n",
        "plt.plot(epoch_range, r.history['val_loss'])\r\n",
        "plt.title('Model loss')\r\n",
        "plt.ylabel('Loss')\r\n",
        "plt.xlabel('Epoch')\r\n",
        "plt.legend(['Train', 'Val'], loc='lower right')\r\n",
        "plt.show()"
      ],
      "execution_count": 9,
      "outputs": [
        {
          "output_type": "stream",
          "text": [
            "313/313 [==============================] - 2s 6ms/step - loss: 0.0559 - accuracy: 0.9858\n",
            "test set loss :  0.05586255341768265\n",
            "test set accuracy : 98.580002784729\n"
          ],
          "name": "stdout"
        },
        {
          "output_type": "display_data",
          "data": {
            "image/png": "[encoded data removed]",
            "text/plain": [
              "<Figure size 432x288 with 1 Axes>"
            ]
          },
          "metadata": {
            "tags": [],
            "needs_background": "light"
          }
        },
        {
          "output_type": "display_data",
          "data": {
            "image/png": "[encoded data removed]",
            "text/plain": [
              "<Figure size 432x288 with 1 Axes>"
            ]
          },
          "metadata": {
            "tags": [],
            "needs_background": "light"
          }
        }
      ]
    },
    {
      "cell_type": "code",
      "metadata": {
        "id": "TIbAc2YK2oo2"
      },
      "source": [
        "classes = range(10)\r\n",
        "def predict_class(filename, model):\r\n",
        "  img = load_img(filename,target_size=( 28 , 28, 3)) # Lectura como imagen a color\r\n",
        "  plt.imshow(img,cmap='Greys')\r\n",
        "  img = img_to_array(img) \r\n",
        "  img = np.mean(img, axis=2)  # Promedio de los 3 canales en un solo canal\r\n",
        "  img = img.reshape(1,28,28,1)\r\n",
        "  img = img.astype('float32')\r\n",
        "  img = img/255.0\r\n",
        "  result = model.predict(img)\r\n",
        "  dict2 = {}\r\n",
        "  for i in range(10):\r\n",
        "    dict2[result[0][i]] = classes[i]\r\n",
        "  res = result[0]\r\n",
        "  res.sort()\r\n",
        "  res = res[::-1]\r\n",
        "  results = res[:3]\r\n",
        "  print(\"Top predictions of these images are\")\r\n",
        "  for i in range(3):\r\n",
        "    print(\"{} : {}\".format(dict2[results[i]],\r\n",
        "                           (results[i]*100).round(2)))\r\n",
        "  print('The image given as input is')"
      ],
      "execution_count": 10,
      "outputs": []
    },
    {
      "cell_type": "code",
      "metadata": {
        "colab": {
          "base_uri": "https://localhost:8080/",
          "height": 350
        },
        "id": "AQc7HXEv2ux7",
        "outputId": "0307d5f5-dbf5-4dfb-bb25-d6b42b26c092"
      },
      "source": [
        "predict_class(\"/content/1.png\", model)"
      ],
      "execution_count": 22,
      "outputs": [
        {
          "output_type": "stream",
          "text": [
            "Top predictions of these images are\n",
            "1 : 100.0\n",
            "2 : 0.0\n",
            "5 : 0.0\n",
            "The image given as input is\n"
          ],
          "name": "stdout"
        },
        {
          "output_type": "display_data",
          "data": {
            "image/png": "[encoded data removed]",
            "text/plain": [
              "<Figure size 432x288 with 1 Axes>"
            ]
          },
          "metadata": {
            "tags": [],
            "needs_background": "light"
          }
        }
      ]
    },
    {
      "cell_type": "code",
      "metadata": {
        "colab": {
          "base_uri": "https://localhost:8080/",
          "height": 350
        },
        "id": "RRj_hF0nZbSn",
        "outputId": "72a4df59-3df6-4b72-d8b1-2a0274744082"
      },
      "source": [
        "predict_class(\"/content/2.png\", model)"
      ],
      "execution_count": 30,
      "outputs": [
        {
          "output_type": "stream",
          "text": [
            "Top predictions of these images are\n",
            "2 : 100.0\n",
            "3 : 0.0\n",
            "1 : 0.0\n",
            "The image given as input is\n"
          ],
          "name": "stdout"
        },
        {
          "output_type": "display_data",
          "data": {
            "image/png": "[encoded data removed]",
            "text/plain": [
              "<Figure size 432x288 with 1 Axes>"
            ]
          },
          "metadata": {
            "tags": [],
            "needs_background": "light"
          }
        }
      ]
    },
    {
      "cell_type": "code",
      "metadata": {
        "colab": {
          "base_uri": "https://localhost:8080/",
          "height": 350
        },
        "id": "B7DAdm9KZc6S",
        "outputId": "26b18d44-06e6-4231-bf72-e866e8f8fc82"
      },
      "source": [
        "predict_class(\"/content/3.png\", model)"
      ],
      "execution_count": 29,
      "outputs": [
        {
          "output_type": "stream",
          "text": [
            "Top predictions of these images are\n",
            "3 : 99.91\n",
            "2 : 0.07\n",
            "8 : 0.02\n",
            "The image given as input is\n"
          ],
          "name": "stdout"
        },
        {
          "output_type": "display_data",
          "data": {
            "image/png": "[encoded data removed]",
            "text/plain": [
              "<Figure size 432x288 with 1 Axes>"
            ]
          },
          "metadata": {
            "tags": [],
            "needs_background": "light"
          }
        }
      ]
    },
    {
      "cell_type": "code",
      "metadata": {
        "colab": {
          "base_uri": "https://localhost:8080/",
          "height": 350
        },
        "id": "JNNWXU2aZdjN",
        "outputId": "75fc2122-9b34-4b47-cc64-ff2eb5231e3c"
      },
      "source": [
        "predict_class(\"/content/5.png\", model)"
      ],
      "execution_count": 27,
      "outputs": [
        {
          "output_type": "stream",
          "text": [
            "Top predictions of these images are\n",
            "5 : 100.0\n",
            "9 : 0.0\n",
            "3 : 0.0\n",
            "The image given as input is\n"
          ],
          "name": "stdout"
        },
        {
          "output_type": "display_data",
          "data": {
            "image/png": "[encoded data removed]",
            "text/plain": [
              "<Figure size 432x288 with 1 Axes>"
            ]
          },
          "metadata": {
            "tags": [],
            "needs_background": "light"
          }
        }
      ]
    },
    {
      "cell_type": "code",
      "metadata": {
        "colab": {
          "base_uri": "https://localhost:8080/",
          "height": 350
        },
        "id": "HqR1omvEZdqq",
        "outputId": "0c809b2e-5682-4e1b-c9a0-1e5477966c07"
      },
      "source": [
        "predict_class(\"/content/6.png\", model)"
      ],
      "execution_count": 26,
      "outputs": [
        {
          "output_type": "stream",
          "text": [
            "Top predictions of these images are\n",
            "6 : 99.41\n",
            "5 : 0.59\n",
            "9 : 0.0\n",
            "The image given as input is\n"
          ],
          "name": "stdout"
        },
        {
          "output_type": "display_data",
          "data": {
            "image/png": "[encoded data removed]",
            "text/plain": [
              "<Figure size 432x288 with 1 Axes>"
            ]
          },
          "metadata": {
            "tags": [],
            "needs_background": "light"
          }
        }
      ]
    },
    {
      "cell_type": "code",
      "metadata": {
        "colab": {
          "base_uri": "https://localhost:8080/",
          "height": 350
        },
        "id": "kVEIv-xLZdxH",
        "outputId": "ec2d6e3b-134a-4d54-e223-ddb48d2faf17"
      },
      "source": [
        "predict_class(\"/content/7.png\", model)"
      ],
      "execution_count": 25,
      "outputs": [
        {
          "output_type": "stream",
          "text": [
            "Top predictions of these images are\n",
            "3 : 98.58\n",
            "7 : 1.42\n",
            "2 : 0.0\n",
            "The image given as input is\n"
          ],
          "name": "stdout"
        },
        {
          "output_type": "display_data",
          "data": {
            "image/png": "[encoded data removed]",
            "text/plain": [
              "<Figure size 432x288 with 1 Axes>"
            ]
          },
          "metadata": {
            "tags": [],
            "needs_background": "light"
          }
        }
      ]
    },
    {
      "cell_type": "code",
      "metadata": {
        "colab": {
          "base_uri": "https://localhost:8080/",
          "height": 350
        },
        "id": "zuwg_P_hZd4K",
        "outputId": "67a06d2f-176e-435c-f656-3c9ba7ccd4d4"
      },
      "source": [
        "predict_class(\"/content/8.png\", model)"
      ],
      "execution_count": 24,
      "outputs": [
        {
          "output_type": "stream",
          "text": [
            "Top predictions of these images are\n",
            "8 : 100.0\n",
            "9 : 0.0\n",
            "3 : 0.0\n",
            "The image given as input is\n"
          ],
          "name": "stdout"
        },
        {
          "output_type": "display_data",
          "data": {
            "image/png": "[encoded data removed]",
            "text/plain": [
              "<Figure size 432x288 with 1 Axes>"
            ]
          },
          "metadata": {
            "tags": [],
            "needs_background": "light"
          }
        }
      ]
    },
    {
      "cell_type": "code",
      "metadata": {
        "colab": {
          "base_uri": "https://localhost:8080/",
          "height": 350
        },
        "id": "XuLJS2SkZeFb",
        "outputId": "d5c1e572-4b92-48ce-c639-ac4b9cd76826"
      },
      "source": [
        "predict_class(\"/content/9.png\", model)"
      ],
      "execution_count": 23,
      "outputs": [
        {
          "output_type": "stream",
          "text": [
            "Top predictions of these images are\n",
            "9 : 99.89\n",
            "8 : 0.06\n",
            "3 : 0.03\n",
            "The image given as input is\n"
          ],
          "name": "stdout"
        },
        {
          "output_type": "display_data",
          "data": {
            "image/png": "[encoded data removed]",
            "text/plain": [
              "<Figure size 432x288 with 1 Axes>"
            ]
          },
          "metadata": {
            "tags": [],
            "needs_background": "light"
          }
        }
      ]
    }
  ]
}