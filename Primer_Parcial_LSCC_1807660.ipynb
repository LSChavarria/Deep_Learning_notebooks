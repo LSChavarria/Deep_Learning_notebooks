{
  "nbformat": 4,
  "nbformat_minor": 0,
  "metadata": {
    "colab": {
      "name": "Primer_Parcial_LSCC_1807660.ipynb",
      "provenance": [],
      "collapsed_sections": [
        "BHEoAm7kieac"
      ]
    },
    "kernelspec": {
      "name": "python3",
      "display_name": "Python 3"
    },
    "accelerator": "GPU"
  },
  "cells": [
    {
      "cell_type": "markdown",
      "metadata": {
        "id": "BKw2-iWNigxv"
      },
      "source": [
        "Luis Sebastián Chavarría Cerda\r\n",
        "1807660"
      ]
    },
    {
      "cell_type": "markdown",
      "metadata": {
        "id": "BHEoAm7kieac"
      },
      "source": [
        "# Preambulo problemas 4 y 5"
      ]
    },
    {
      "cell_type": "code",
      "metadata": {
        "id": "S1WiKpowiGlD"
      },
      "source": [
        "%tensorflow_version 2.x\r\n",
        "import tensorflow as tf\r\n",
        "import matplotlib.pyplot as plt\r\n",
        "import tensorflow_datasets\r\n",
        "import numpy as np"
      ],
      "execution_count": null,
      "outputs": []
    },
    {
      "cell_type": "code",
      "metadata": {
        "colab": {
          "base_uri": "https://localhost:8080/"
        },
        "id": "eqA3eaqjij8D",
        "outputId": "225cc428-60f8-4cb1-953b-4bb6d1d236cc"
      },
      "source": [
        "# El conjunto de datos\r\n",
        "(x_train, y_train), (x_test, y_test) = tf.keras.datasets.mnist.load_data()"
      ],
      "execution_count": null,
      "outputs": [
        {
          "output_type": "stream",
          "text": [
            "Downloading data from https://storage.googleapis.com/tensorflow/tf-keras-datasets/mnist.npz\n",
            "11493376/11490434 [==============================] - 0s 0us/step\n"
          ],
          "name": "stdout"
        }
      ]
    },
    {
      "cell_type": "code",
      "metadata": {
        "id": "6EhF0xk-inC1"
      },
      "source": [
        "# Modificacion para que las imagenes tengan la estructura correcta\r\n",
        "x_train = x_train.reshape((60000,28,28,1))\r\n",
        "x_test = x_test.reshape((10000,28,28,1))"
      ],
      "execution_count": null,
      "outputs": []
    },
    {
      "cell_type": "code",
      "metadata": {
        "id": "GTNASsN3i5Nx"
      },
      "source": [
        "from sklearn.model_selection import train_test_split\r\n",
        "x_train, x_val, y_train, y_val = train_test_split(x_train,\r\n",
        " y_train, test_size = 0.05,\r\n",
        "random_state = 0)"
      ],
      "execution_count": null,
      "outputs": []
    },
    {
      "cell_type": "code",
      "metadata": {
        "id": "lOXmE3Izi69n"
      },
      "source": [
        "def normalize(data):\r\n",
        " data = data.astype(\"float32\")\r\n",
        " data = data/255.0\r\n",
        " return data"
      ],
      "execution_count": null,
      "outputs": []
    },
    {
      "cell_type": "code",
      "metadata": {
        "id": "Z_hXM_tHi8fb"
      },
      "source": [
        "x_train = normalize(x_train)\r\n",
        "x_val = normalize(x_val)\r\n",
        "x_test = normalize(x_test)"
      ],
      "execution_count": null,
      "outputs": []
    },
    {
      "cell_type": "code",
      "metadata": {
        "id": "bdbW4e7ejA1Z"
      },
      "source": [
        "y_train = tf.keras.utils.to_categorical(y_train, 10)\r\n",
        "y_test = tf.keras.utils.to_categorical(y_test, 10)\r\n",
        "y_val = tf.keras.utils.to_categorical(y_val, 10)"
      ],
      "execution_count": null,
      "outputs": []
    },
    {
      "cell_type": "code",
      "metadata": {
        "id": "Wvfcqvz9jDvb"
      },
      "source": [
        "from tensorflow.keras.preprocessing.image import load_img, img_to_array\r\n",
        "classes = range(10)\r\n",
        "def results(model,epoch=20):\r\n",
        "  r = model.fit(x_train, y_train, batch_size = 32,\r\n",
        "                epochs = epoch, \r\n",
        "                validation_data = (x_val, y_val), \r\n",
        "                verbose = 1)\r\n",
        "  acc = model.evaluate(x_test, y_test)\r\n",
        "  print(\"test set loss : \", acc[0])\r\n",
        "  print(\"test set accuracy :\", acc[1]*100)\r\n",
        "  epoch_range = range(1, epoch+1)\r\n",
        "  plt.plot(epoch_range, r.history['accuracy'])\r\n",
        "  plt.plot(epoch_range, r.history['val_accuracy'])\r\n",
        "  plt.title('Classification Accuracy')\r\n",
        "  plt.ylabel('Accuracy')\r\n",
        "  plt.xlabel('Epoch')\r\n",
        "  plt.legend(['Train', 'Val'], loc='lower right')\r\n",
        "  plt.show()\r\n",
        "  # Plot training & validation loss values\r\n",
        "  plt.plot(epoch_range,r.history['loss'])\r\n",
        "  plt.plot(epoch_range, r.history['val_loss'])\r\n",
        "  plt.title('Model loss')\r\n",
        "  plt.ylabel('Loss')\r\n",
        "  plt.xlabel('Epoch')\r\n",
        "  plt.legend(['Train', 'Val'], loc='lower right')\r\n",
        "  plt.show()\r\n",
        "\r\n",
        "def predict_class(filename, model):\r\n",
        "  img = load_img(filename,target_size=( 28 , 28, 3)) # Lectura como imagen a color\r\n",
        "  plt.imshow(img,cmap='Greys')\r\n",
        "  img = img_to_array(img) \r\n",
        "  img = np.mean(img, axis=2)  # Promedio de los 3 canales en un solo canal\r\n",
        "  img = img.reshape(1,28,28,1)\r\n",
        "  img = img.astype('float32')\r\n",
        "  img = img/255.0\r\n",
        "  result = model.predict(img)\r\n",
        "  dict2 = {}\r\n",
        "  for i in range(10):\r\n",
        "    dict2[result[0][i]] = classes[i]\r\n",
        "  res = result[0]\r\n",
        "  res.sort()\r\n",
        "  res = res[::-1]\r\n",
        "  results = res[:3]\r\n",
        "  print(\"Top predictions of these images are\")\r\n",
        "  for i in range(3):\r\n",
        "    print(\"{} : {}\".format(dict2[results[i]],\r\n",
        "                           (results[i]*100).round(2)))\r\n",
        "  print('The image given as input is')"
      ],
      "execution_count": null,
      "outputs": []
    },
    {
      "cell_type": "markdown",
      "metadata": {
        "id": "9lp9KMWpjLzM"
      },
      "source": [
        "# 4. (30 puntos) Ajusta una red neuronal profunda con capas densas (sin capas de convolucion) para predicción."
      ]
    },
    {
      "cell_type": "markdown",
      "metadata": {
        "id": "iimDZ35HjPOP"
      },
      "source": [
        "Nota 1: Debes especificar la estructura de la red que estas usando, su cantidad de parametros y comentar sobre en que epoca se comienza a notar un sobreajuste.\r\n",
        "\r\n",
        "Nota 2: Debes verificar el rendimiento de tu modelo sobre al menos una imagen creada por ti.\r\n",
        "\r\n",
        "Nota 3: Puedes entregar más de un modelo.\r\n",
        "\r\n",
        "Nota 4: Quien tenga el mayor accuracy recibirá 20 puntos extras."
      ]
    },
    {
      "cell_type": "code",
      "metadata": {
        "id": "XWZYV6gvjX4J",
        "colab": {
          "base_uri": "https://localhost:8080/",
          "height": 1000
        },
        "outputId": "87d0d552-dee5-4425-de74-01d5ecda4cdf"
      },
      "source": [
        "from tensorflow.keras.models import Sequential\r\n",
        "from tensorflow.keras.layers import Dense, Dropout, Conv2D, MaxPooling2D,Flatten, BatchNormalization\r\n",
        "model_1 = Sequential([\r\n",
        " Flatten(), # Esto colapsa las imagenes en un vector de una dimension\r\n",
        "  ## TU ARQUITECTURA\r\n",
        " Dense(32, activation = 'relu', input_shape = (28, 28, 1)),\r\n",
        " BatchNormalization(),\r\n",
        " Dense(64, activation='relu'),\r\n",
        " BatchNormalization(),\r\n",
        " Dense(32, activation='relu'),\r\n",
        " Dense(10, activation = 'softmax')\r\n",
        "])\r\n",
        "opt = tf.keras.optimizers.SGD(lr=0.001, momentum=0.9) ## PUEDES MODIFICAR EL OPTIMIZADOR\r\n",
        "model_1.compile(optimizer=opt, loss =  'categorical_crossentropy',##### Coloca la funcion de perdida adecuada\r\n",
        " metrics = ['accuracy'])\r\n",
        "results(model_1)"
      ],
      "execution_count": null,
      "outputs": [
        {
          "output_type": "stream",
          "text": [
            "Epoch 1/20\n",
            "1782/1782 [==============================] - 6s 3ms/step - loss: 0.8914 - accuracy: 0.7209 - val_loss: 0.2535 - val_accuracy: 0.9277\n",
            "Epoch 2/20\n",
            "1782/1782 [==============================] - 6s 3ms/step - loss: 0.2815 - accuracy: 0.9166 - val_loss: 0.1871 - val_accuracy: 0.9463\n",
            "Epoch 3/20\n",
            "1782/1782 [==============================] - 6s 3ms/step - loss: 0.2186 - accuracy: 0.9350 - val_loss: 0.1632 - val_accuracy: 0.9493\n",
            "Epoch 4/20\n",
            "1782/1782 [==============================] - 6s 3ms/step - loss: 0.1906 - accuracy: 0.9432 - val_loss: 0.1440 - val_accuracy: 0.9597\n",
            "Epoch 5/20\n",
            "1782/1782 [==============================] - 6s 3ms/step - loss: 0.1670 - accuracy: 0.9501 - val_loss: 0.1287 - val_accuracy: 0.9620\n",
            "Epoch 6/20\n",
            "1782/1782 [==============================] - 6s 3ms/step - loss: 0.1519 - accuracy: 0.9548 - val_loss: 0.1247 - val_accuracy: 0.9610\n",
            "Epoch 7/20\n",
            "1782/1782 [==============================] - 6s 3ms/step - loss: 0.1387 - accuracy: 0.9571 - val_loss: 0.1243 - val_accuracy: 0.9623\n",
            "Epoch 8/20\n",
            "1782/1782 [==============================] - 6s 3ms/step - loss: 0.1292 - accuracy: 0.9597 - val_loss: 0.1137 - val_accuracy: 0.9630\n",
            "Epoch 9/20\n",
            "1782/1782 [==============================] - 6s 3ms/step - loss: 0.1237 - accuracy: 0.9616 - val_loss: 0.1031 - val_accuracy: 0.9673\n",
            "Epoch 10/20\n",
            "1782/1782 [==============================] - 6s 3ms/step - loss: 0.1155 - accuracy: 0.9645 - val_loss: 0.1063 - val_accuracy: 0.9670\n",
            "Epoch 11/20\n",
            "1782/1782 [==============================] - 6s 3ms/step - loss: 0.1106 - accuracy: 0.9661 - val_loss: 0.1077 - val_accuracy: 0.9687\n",
            "Epoch 12/20\n",
            "1782/1782 [==============================] - 6s 3ms/step - loss: 0.1049 - accuracy: 0.9665 - val_loss: 0.0996 - val_accuracy: 0.9710\n",
            "Epoch 13/20\n",
            "1782/1782 [==============================] - 6s 3ms/step - loss: 0.1061 - accuracy: 0.9656 - val_loss: 0.0972 - val_accuracy: 0.9697\n",
            "Epoch 14/20\n",
            "1782/1782 [==============================] - 6s 3ms/step - loss: 0.0967 - accuracy: 0.9694 - val_loss: 0.1022 - val_accuracy: 0.9697\n",
            "Epoch 15/20\n",
            "1782/1782 [==============================] - 6s 3ms/step - loss: 0.0955 - accuracy: 0.9685 - val_loss: 0.0899 - val_accuracy: 0.9740\n",
            "Epoch 16/20\n",
            "1782/1782 [==============================] - 6s 3ms/step - loss: 0.0878 - accuracy: 0.9721 - val_loss: 0.0948 - val_accuracy: 0.9717\n",
            "Epoch 17/20\n",
            "1782/1782 [==============================] - 6s 3ms/step - loss: 0.0893 - accuracy: 0.9718 - val_loss: 0.0973 - val_accuracy: 0.9723\n",
            "Epoch 18/20\n",
            "1782/1782 [==============================] - 6s 3ms/step - loss: 0.0965 - accuracy: 0.9693 - val_loss: 0.0900 - val_accuracy: 0.9743\n",
            "Epoch 19/20\n",
            "1782/1782 [==============================] - 6s 3ms/step - loss: 0.0856 - accuracy: 0.9731 - val_loss: 0.0867 - val_accuracy: 0.9740\n",
            "Epoch 20/20\n",
            "1782/1782 [==============================] - 6s 3ms/step - loss: 0.0770 - accuracy: 0.9749 - val_loss: 0.0904 - val_accuracy: 0.9740\n",
            "313/313 [==============================] - 1s 2ms/step - loss: 0.0971 - accuracy: 0.9705\n",
            "test set loss :  0.09709836542606354\n",
            "test set accuracy : 97.04999923706055\n"
          ],
          "name": "stdout"
        },
        {
          "output_type": "display_data",
          "data": {
            "image/png": "[encoded data removed]",
            "text/plain": [
              "<Figure size 432x288 with 1 Axes>"
            ]
          },
          "metadata": {
            "tags": [],
            "needs_background": "light"
          }
        },
        {
          "output_type": "display_data",
          "data": {
            "image/png": "[encoded data removed]",
            "text/plain": [
              "<Figure size 432x288 with 1 Axes>"
            ]
          },
          "metadata": {
            "tags": [],
            "needs_background": "light"
          }
        }
      ]
    },
    {
      "cell_type": "markdown",
      "metadata": {
        "id": "PBq2n6y6i6N_"
      },
      "source": [
        "Para este ejercicio use una red con una capa de entrada, una capa densa de salida y 3 capas densas ocultas. \r\n",
        "La red comienza con la capa de entrada formada por 784 inputs, seguida de una capa densa con 32 neuronas que usa la función de activación relu, después de esto utilice el método batch normalization, y después otra capa densa con 64 neuronas usando la función relu, para después usar batch normalization de nuevo, luego use otra capa densa de 32 neuronas también con la función relu, por la capa de salida formada por 10 neuronas (una por numero 0 a 9) y la función de activación softmax para obtener la probabilidad de que pertenezca a cada categoría. \r\n",
        "Las épocas terminaron antes de presentar un sobre ajuste aunque anteriormente si tardo un poco en ajustarse apropiadamente.\r\n",
        "A continuación, se muestra el numero de parametros resultantes:"
      ]
    },
    {
      "cell_type": "code",
      "metadata": {
        "colab": {
          "base_uri": "https://localhost:8080/"
        },
        "id": "NAmwo8dHJGu3",
        "outputId": "b2c2e906-2f32-40c3-ff1c-409bc07572d5"
      },
      "source": [
        "model_1.summary()"
      ],
      "execution_count": null,
      "outputs": [
        {
          "output_type": "stream",
          "text": [
            "Model: \"sequential_16\"\n",
            "_________________________________________________________________\n",
            "Layer (type)                 Output Shape              Param #   \n",
            "=================================================================\n",
            "flatten_16 (Flatten)         (None, 784)               0         \n",
            "_________________________________________________________________\n",
            "dense_64 (Dense)             (None, 32)                25120     \n",
            "_________________________________________________________________\n",
            "batch_normalization_17 (Batc (None, 32)                128       \n",
            "_________________________________________________________________\n",
            "dense_65 (Dense)             (None, 64)                2112      \n",
            "_________________________________________________________________\n",
            "batch_normalization_18 (Batc (None, 64)                256       \n",
            "_________________________________________________________________\n",
            "dense_66 (Dense)             (None, 32)                2080      \n",
            "_________________________________________________________________\n",
            "dense_67 (Dense)             (None, 10)                330       \n",
            "=================================================================\n",
            "Total params: 30,026\n",
            "Trainable params: 29,834\n",
            "Non-trainable params: 192\n",
            "_________________________________________________________________\n"
          ],
          "name": "stdout"
        }
      ]
    },
    {
      "cell_type": "code",
      "metadata": {
        "colab": {
          "base_uri": "https://localhost:8080/",
          "height": 350
        },
        "id": "AnTtBhfZOnmg",
        "outputId": "252a3630-6b9f-4a9f-8232-7ee3a506a2ba"
      },
      "source": [
        "predict_class(\"/content/2.png\", model_1)"
      ],
      "execution_count": null,
      "outputs": [
        {
          "output_type": "stream",
          "text": [
            "Top predictions of these images are\n",
            "2 : 99.98\n",
            "3 : 0.0\n",
            "4 : 0.0\n",
            "The image given as input is\n"
          ],
          "name": "stdout"
        },
        {
          "output_type": "display_data",
          "data": {
            "image/png": "[encoded data removed]",
            "text/plain": [
              "<Figure size 432x288 with 1 Axes>"
            ]
          },
          "metadata": {
            "tags": [],
            "needs_background": "light"
          }
        }
      ]
    },
    {
      "cell_type": "code",
      "metadata": {
        "colab": {
          "base_uri": "https://localhost:8080/",
          "height": 350
        },
        "id": "lEghIj22OoHo",
        "outputId": "96b4a207-fe9a-4881-f649-487ceaa4d939"
      },
      "source": [
        "predict_class(\"/content/5.png\", model_1)"
      ],
      "execution_count": null,
      "outputs": [
        {
          "output_type": "stream",
          "text": [
            "Top predictions of these images are\n",
            "5 : 99.97\n",
            "3 : 0.03\n",
            "9 : 0.0\n",
            "The image given as input is\n"
          ],
          "name": "stdout"
        },
        {
          "output_type": "display_data",
          "data": {
            "image/png": "[encoded data removed]",
            "text/plain": [
              "<Figure size 432x288 with 1 Axes>"
            ]
          },
          "metadata": {
            "tags": [],
            "needs_background": "light"
          }
        }
      ]
    },
    {
      "cell_type": "code",
      "metadata": {
        "colab": {
          "base_uri": "https://localhost:8080/",
          "height": 350
        },
        "id": "ayIgFVrGOoXe",
        "outputId": "ea1a2c42-df81-4076-9022-c03c4212c812"
      },
      "source": [
        "predict_class(\"/content/7.png\", model_1)"
      ],
      "execution_count": null,
      "outputs": [
        {
          "output_type": "stream",
          "text": [
            "Top predictions of these images are\n",
            "7 : 99.35\n",
            "3 : 0.59\n",
            "2 : 0.03\n",
            "The image given as input is\n"
          ],
          "name": "stdout"
        },
        {
          "output_type": "display_data",
          "data": {
            "image/png": "[encoded data removed]",
            "text/plain": [
              "<Figure size 432x288 with 1 Axes>"
            ]
          },
          "metadata": {
            "tags": [],
            "needs_background": "light"
          }
        }
      ]
    },
    {
      "cell_type": "code",
      "metadata": {
        "id": "cGnr_2LNjarG",
        "colab": {
          "base_uri": "https://localhost:8080/",
          "height": 350
        },
        "outputId": "b355add8-5708-425c-f76f-ecf3ed37357f"
      },
      "source": [
        "predict_class(\"/content/9.png\", model_1)"
      ],
      "execution_count": null,
      "outputs": [
        {
          "output_type": "stream",
          "text": [
            "Top predictions of these images are\n",
            "9 : 99.84\n",
            "7 : 0.07\n",
            "3 : 0.06\n",
            "The image given as input is\n"
          ],
          "name": "stdout"
        },
        {
          "output_type": "display_data",
          "data": {
            "image/png": "[encoded data removed]",
            "text/plain": [
              "<Figure size 432x288 with 1 Axes>"
            ]
          },
          "metadata": {
            "tags": [],
            "needs_background": "light"
          }
        }
      ]
    },
    {
      "cell_type": "markdown",
      "metadata": {
        "id": "V3V4OObCjZsq"
      },
      "source": [
        "# 5. (30 puntos) Ajusta una red neuronal convolucional (con al menos una capa convolucional) para predicción."
      ]
    },
    {
      "cell_type": "markdown",
      "metadata": {
        "id": "1iEDED4ejddF"
      },
      "source": [
        "Nota 1: Debes especificar la estructura de la red que estas usando, su cantidad de parametros y comentar sobre en que epoca se comienza a notar un sobreajuste.\r\n",
        "\r\n",
        "Nota 2: Debes verificar el rendimiento de tu modelo sobre al menos una imagen creada por ti.\r\n",
        "\r\n",
        "Nota 3: Puedes entregar más de un modelo.\r\n",
        "\r\n",
        "Nota 4: Quien tenga el mayor accuracy recibirá 20 puntos extras."
      ]
    },
    {
      "cell_type": "code",
      "metadata": {
        "id": "11XrNRBDjhvl",
        "colab": {
          "base_uri": "https://localhost:8080/",
          "height": 1000
        },
        "outputId": "a3340f54-baf3-438b-86af-6ffdcf52445b"
      },
      "source": [
        "from tensorflow.keras.models import Sequential\r\n",
        "from tensorflow.keras.layers import Dense, Dropout, Conv2D, MaxPooling2D,Flatten, BatchNormalization\r\n",
        "model_2 = Sequential([\r\n",
        " Conv2D(32, (3, 3), activation = 'relu', padding = 'same', input_shape = (28, 28, 1)),\r\n",
        " Conv2D(32, (3, 3), activation = 'relu', padding = 'same'),\r\n",
        " MaxPooling2D((2, 2)),\r\n",
        " Conv2D(28, (3, 3), activation = 'relu', padding = 'same'),\r\n",
        " Conv2D(28, (3, 3), activation = 'relu', padding = 'same'),\r\n",
        " MaxPooling2D((2, 2)),\r\n",
        " Flatten(),\r\n",
        " Dense(32, activation = 'relu'),\r\n",
        " Dense(64, activation='relu'),\r\n",
        " Dense(32, activation='relu'),\r\n",
        " Dense(10, activation = 'softmax')\r\n",
        "])\r\n",
        "opt = tf.keras.optimizers.SGD(lr=0.001, momentum=0.9) ## PUEDES MODIFICAR EL OPTIMIZADOR\r\n",
        "model_2.compile(optimizer=opt, loss = 'categorical_crossentropy',##### Coloca la funcion de perdida adecuada,\r\n",
        " metrics = ['accuracy'])\r\n",
        "results(model_2)"
      ],
      "execution_count": null,
      "outputs": [
        {
          "output_type": "stream",
          "text": [
            "Epoch 1/20\n",
            "1782/1782 [==============================] - 40s 4ms/step - loss: 1.4603 - accuracy: 0.4955 - val_loss: 0.1513 - val_accuracy: 0.9547\n",
            "Epoch 2/20\n",
            "1782/1782 [==============================] - 7s 4ms/step - loss: 0.1361 - accuracy: 0.9592 - val_loss: 0.0789 - val_accuracy: 0.9760\n",
            "Epoch 3/20\n",
            "1782/1782 [==============================] - 8s 4ms/step - loss: 0.0986 - accuracy: 0.9693 - val_loss: 0.0666 - val_accuracy: 0.9797\n",
            "Epoch 4/20\n",
            "1782/1782 [==============================] - 7s 4ms/step - loss: 0.0722 - accuracy: 0.9770 - val_loss: 0.0615 - val_accuracy: 0.9827\n",
            "Epoch 5/20\n",
            "1782/1782 [==============================] - 7s 4ms/step - loss: 0.0593 - accuracy: 0.9809 - val_loss: 0.0492 - val_accuracy: 0.9850\n",
            "Epoch 6/20\n",
            "1782/1782 [==============================] - 7s 4ms/step - loss: 0.0487 - accuracy: 0.9849 - val_loss: 0.0588 - val_accuracy: 0.9810\n",
            "Epoch 7/20\n",
            "1782/1782 [==============================] - 8s 4ms/step - loss: 0.0454 - accuracy: 0.9854 - val_loss: 0.0384 - val_accuracy: 0.9877\n",
            "Epoch 8/20\n",
            "1782/1782 [==============================] - 8s 4ms/step - loss: 0.0425 - accuracy: 0.9865 - val_loss: 0.0488 - val_accuracy: 0.9827\n",
            "Epoch 9/20\n",
            "1782/1782 [==============================] - 8s 4ms/step - loss: 0.0345 - accuracy: 0.9891 - val_loss: 0.0415 - val_accuracy: 0.9870\n",
            "Epoch 10/20\n",
            "1782/1782 [==============================] - 7s 4ms/step - loss: 0.0324 - accuracy: 0.9899 - val_loss: 0.0461 - val_accuracy: 0.9870\n",
            "Epoch 11/20\n",
            "1782/1782 [==============================] - 7s 4ms/step - loss: 0.0296 - accuracy: 0.9900 - val_loss: 0.0445 - val_accuracy: 0.9857\n",
            "Epoch 12/20\n",
            "1782/1782 [==============================] - 7s 4ms/step - loss: 0.0281 - accuracy: 0.9911 - val_loss: 0.0355 - val_accuracy: 0.9900\n",
            "Epoch 13/20\n",
            "1782/1782 [==============================] - 7s 4ms/step - loss: 0.0251 - accuracy: 0.9917 - val_loss: 0.0462 - val_accuracy: 0.9863\n",
            "Epoch 14/20\n",
            "1782/1782 [==============================] - 7s 4ms/step - loss: 0.0225 - accuracy: 0.9924 - val_loss: 0.0415 - val_accuracy: 0.9850\n",
            "Epoch 15/20\n",
            "1782/1782 [==============================] - 7s 4ms/step - loss: 0.0200 - accuracy: 0.9936 - val_loss: 0.0339 - val_accuracy: 0.9890\n",
            "Epoch 16/20\n",
            "1782/1782 [==============================] - 7s 4ms/step - loss: 0.0191 - accuracy: 0.9937 - val_loss: 0.0449 - val_accuracy: 0.9887\n",
            "Epoch 17/20\n",
            "1782/1782 [==============================] - 7s 4ms/step - loss: 0.0177 - accuracy: 0.9939 - val_loss: 0.0434 - val_accuracy: 0.9887\n",
            "Epoch 18/20\n",
            "1782/1782 [==============================] - 8s 4ms/step - loss: 0.0170 - accuracy: 0.9941 - val_loss: 0.0396 - val_accuracy: 0.9890\n",
            "Epoch 19/20\n",
            "1782/1782 [==============================] - 7s 4ms/step - loss: 0.0136 - accuracy: 0.9958 - val_loss: 0.0391 - val_accuracy: 0.9900\n",
            "Epoch 20/20\n",
            "1782/1782 [==============================] - 8s 4ms/step - loss: 0.0125 - accuracy: 0.9960 - val_loss: 0.0446 - val_accuracy: 0.9890\n",
            "313/313 [==============================] - 1s 3ms/step - loss: 0.0446 - accuracy: 0.9873\n",
            "test set loss :  0.044575322419404984\n",
            "test set accuracy : 98.72999787330627\n"
          ],
          "name": "stdout"
        },
        {
          "output_type": "display_data",
          "data": {
            "image/png": "[encoded data removed]",
            "text/plain": [
              "<Figure size 432x288 with 1 Axes>"
            ]
          },
          "metadata": {
            "tags": [],
            "needs_background": "light"
          }
        },
        {
          "output_type": "display_data",
          "data": {
            "image/png": "[encoded data removed]",
            "text/plain": [
              "<Figure size 432x288 with 1 Axes>"
            ]
          },
          "metadata": {
            "tags": [],
            "needs_background": "light"
          }
        }
      ]
    },
    {
      "cell_type": "markdown",
      "metadata": {
        "id": "hJ6OJfg1jUqR"
      },
      "source": [
        "Para este ejercicio use una estructura de red formada por una capa de entrada, una capa de salida y 4 capas convolucionales y 3 capas densas ocultas.\r\n",
        "La red comienza con las imágenes enviándose a una capa de convolución con la función de activación relu y utilizando 32 kernels de 3x3, seguida de otra capa de convolución con las mismas características para después hacer un max pooling con un kernel de 2x2  y llegar a otra capa de convolución pero esta vez de 28 kernels 3x3 con función de activación relu seguido de otra red de convolución con las mismas características y de nuevo un max pooling con un kernel 2x2 para después llegar a la función flatten que nos ayuda a aplanar nuestra matriz en un vector y de aquí entra a una capa densa con 32 neuronas que usa la función de activación relu, después otra capa densa con 64 neuronas usando la función relu, luego use otra capa densa de 32 neuronas también con la función relu, por la capa de salida formada por 10 neuronas (una por numero 0 a 9) y la función de activación softmax para obtener la probabilidad de que pertenezca a cada categoría. \r\n",
        "A continuación, se muestra el numero de parametros resultantes:"
      ]
    },
    {
      "cell_type": "code",
      "metadata": {
        "colab": {
          "base_uri": "https://localhost:8080/"
        },
        "id": "jDj3aq3GJEIJ",
        "outputId": "2e471d0b-1315-4aca-fe1f-bcd1ab70094e"
      },
      "source": [
        "model_2.summary()"
      ],
      "execution_count": null,
      "outputs": [
        {
          "output_type": "stream",
          "text": [
            "Model: \"sequential_1\"\n",
            "_________________________________________________________________\n",
            "Layer (type)                 Output Shape              Param #   \n",
            "=================================================================\n",
            "conv2d_4 (Conv2D)            (None, 28, 28, 32)        320       \n",
            "_________________________________________________________________\n",
            "conv2d_5 (Conv2D)            (None, 28, 28, 32)        9248      \n",
            "_________________________________________________________________\n",
            "max_pooling2d_2 (MaxPooling2 (None, 14, 14, 32)        0         \n",
            "_________________________________________________________________\n",
            "conv2d_6 (Conv2D)            (None, 14, 14, 28)        8092      \n",
            "_________________________________________________________________\n",
            "conv2d_7 (Conv2D)            (None, 14, 14, 28)        7084      \n",
            "_________________________________________________________________\n",
            "max_pooling2d_3 (MaxPooling2 (None, 7, 7, 28)          0         \n",
            "_________________________________________________________________\n",
            "flatten_1 (Flatten)          (None, 1372)              0         \n",
            "_________________________________________________________________\n",
            "dense_4 (Dense)              (None, 32)                43936     \n",
            "_________________________________________________________________\n",
            "dense_5 (Dense)              (None, 64)                2112      \n",
            "_________________________________________________________________\n",
            "dense_6 (Dense)              (None, 32)                2080      \n",
            "_________________________________________________________________\n",
            "dense_7 (Dense)              (None, 10)                330       \n",
            "=================================================================\n",
            "Total params: 73,202\n",
            "Trainable params: 73,202\n",
            "Non-trainable params: 0\n",
            "_________________________________________________________________\n"
          ],
          "name": "stdout"
        }
      ]
    },
    {
      "cell_type": "code",
      "metadata": {
        "colab": {
          "base_uri": "https://localhost:8080/",
          "height": 350
        },
        "id": "JyR5bB8lb-yI",
        "outputId": "1880db2b-746a-4b4f-9773-2e94d60d2641"
      },
      "source": [
        "predict_class(\"/content/2.png\", model_2)"
      ],
      "execution_count": null,
      "outputs": [
        {
          "output_type": "stream",
          "text": [
            "Top predictions of these images are\n",
            "2 : 100.0\n",
            "7 : 0.0\n",
            "3 : 0.0\n",
            "The image given as input is\n"
          ],
          "name": "stdout"
        },
        {
          "output_type": "display_data",
          "data": {
            "image/png": "[encoded data removed]",
            "text/plain": [
              "<Figure size 432x288 with 1 Axes>"
            ]
          },
          "metadata": {
            "tags": [],
            "needs_background": "light"
          }
        }
      ]
    },
    {
      "cell_type": "code",
      "metadata": {
        "colab": {
          "base_uri": "https://localhost:8080/",
          "height": 350
        },
        "id": "dKNzN99fb_HL",
        "outputId": "19805d13-badd-444f-fd86-c105f38e7efc"
      },
      "source": [
        "predict_class(\"/content/5.png\", model_2)"
      ],
      "execution_count": null,
      "outputs": [
        {
          "output_type": "stream",
          "text": [
            "Top predictions of these images are\n",
            "5 : 100.0\n",
            "8 : 0.0\n",
            "6 : 0.0\n",
            "The image given as input is\n"
          ],
          "name": "stdout"
        },
        {
          "output_type": "display_data",
          "data": {
            "image/png": "[encoded data removed]",
            "text/plain": [
              "<Figure size 432x288 with 1 Axes>"
            ]
          },
          "metadata": {
            "tags": [],
            "needs_background": "light"
          }
        }
      ]
    },
    {
      "cell_type": "code",
      "metadata": {
        "colab": {
          "base_uri": "https://localhost:8080/",
          "height": 350
        },
        "id": "GT5sLVyKb_Ti",
        "outputId": "c9808885-ebe2-4365-eb7c-d34107468765"
      },
      "source": [
        "predict_class(\"/content/7.png\", model_2)"
      ],
      "execution_count": null,
      "outputs": [
        {
          "output_type": "stream",
          "text": [
            "Top predictions of these images are\n",
            "7 : 99.68\n",
            "3 : 0.32\n",
            "8 : 0.0\n",
            "The image given as input is\n"
          ],
          "name": "stdout"
        },
        {
          "output_type": "display_data",
          "data": {
            "image/png": "[encoded data removed]",
            "text/plain": [
              "<Figure size 432x288 with 1 Axes>"
            ]
          },
          "metadata": {
            "tags": [],
            "needs_background": "light"
          }
        }
      ]
    },
    {
      "cell_type": "code",
      "metadata": {
        "colab": {
          "base_uri": "https://localhost:8080/",
          "height": 350
        },
        "id": "D6dXkgBMb_qH",
        "outputId": "1f05ae2f-fc93-447f-acf4-1211a141503d"
      },
      "source": [
        "predict_class(\"/content/9.png\", model_2)"
      ],
      "execution_count": null,
      "outputs": [
        {
          "output_type": "stream",
          "text": [
            "Top predictions of these images are\n",
            "9 : 97.92\n",
            "7 : 1.34\n",
            "8 : 0.74\n",
            "The image given as input is\n"
          ],
          "name": "stdout"
        },
        {
          "output_type": "display_data",
          "data": {
            "image/png": "[encoded data removed]",
            "text/plain": [
              "<Figure size 432x288 with 1 Axes>"
            ]
          },
          "metadata": {
            "tags": [],
            "needs_background": "light"
          }
        }
      ]
    }
  ]
}