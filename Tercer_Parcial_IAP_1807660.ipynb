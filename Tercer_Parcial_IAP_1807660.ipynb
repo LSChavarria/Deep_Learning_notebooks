{
  "nbformat": 4,
  "nbformat_minor": 0,
  "metadata": {
    "colab": {
      "name": "Tercer_Parcial_IAP.ipynb",
      "provenance": [],
      "collapsed_sections": [
        "nbrL4eqzXkIY"
      ],
      "toc_visible": true
    },
    "kernelspec": {
      "name": "python3",
      "display_name": "Python 3"
    },
    "language_info": {
      "name": "python"
    },
    "accelerator": "GPU"
  },
  "cells": [
    {
      "cell_type": "code",
      "metadata": {
        "id": "AcOnrn5bWHeM",
        "colab": {
          "base_uri": "https://localhost:8080/"
        },
        "outputId": "82929ab3-aebe-47d5-e86c-02d99ef0b403"
      },
      "source": [
        "from google.colab import drive\n",
        "drive.mount('/content/drive')"
      ],
      "execution_count": null,
      "outputs": [
        {
          "output_type": "stream",
          "text": [
            "Mounted at /content/drive\n"
          ],
          "name": "stdout"
        }
      ]
    },
    {
      "cell_type": "code",
      "metadata": {
        "id": "PB5FCvgWXcDD"
      },
      "source": [
        "import os\n",
        "import pandas as pd\n",
        "import numpy as np\n",
        "import matplotlib.pyplot as plt\n",
        "from tensorflow.keras.layers import Input, Dense, Conv2D, Dropout, Flatten, MaxPooling2D\n",
        "from tensorflow.keras.models import Model, Sequential\n",
        "from sklearn.decomposition import PCA\n",
        "from sklearn.preprocessing import StandardScaler\n",
        "from sklearn.cluster import KMeans\n",
        "\n",
        "%matplotlib inline\n",
        "%tensorflow_version 2.x"
      ],
      "execution_count": null,
      "outputs": []
    },
    {
      "cell_type": "code",
      "metadata": {
        "id": "PuDMlSUOjOCA"
      },
      "source": [
        "# Función para leer las imagenes\n",
        "def read_img(df):\n",
        "  data_folder = \"/content/drive/MyDrive/DL Tercer Parcial/Data Parcial 3\"\n",
        "  img_list = [plt.imread(os.path.join(data_folder,sub_dir)) for sub_dir in df[\"File\"]]\n",
        "  return img_list"
      ],
      "execution_count": null,
      "outputs": []
    },
    {
      "cell_type": "markdown",
      "metadata": {
        "id": "nbrL4eqzXkIY"
      },
      "source": [
        "#Separamos datos para problema 1 y 2"
      ]
    },
    {
      "cell_type": "code",
      "metadata": {
        "id": "ZprT_cavbPnR"
      },
      "source": [
        "df = pd.read_csv(\"/content/drive/MyDrive/DL Tercer Parcial/fruit_data.csv\")\n",
        "df_P1 = df[df[\"Kind\"] == \"Unsupervised\"][['File']]\n",
        "df_P2_Train = df[df[\"Kind\"] == \"Train\"][['File', 'Fruit']]\n",
        "df_P2_Test = df[df[\"Kind\"] == \"Test\"][['File']]\n",
        "df_P1.to_csv(\"/content/drive/MyDrive/DL Tercer Parcial/fruit_data_P1.csv\",index=False)\n",
        "df_P2_Train.to_csv(\"/content/drive/MyDrive/DL Tercer Parcial/fruit_data_P2_Train.csv\",index=False)\n",
        "df_P2_Test.to_csv(\"/content/drive/MyDrive/DL Tercer Parcial/fruit_data_P2_Test.csv\",index=False)"
      ],
      "execution_count": null,
      "outputs": []
    },
    {
      "cell_type": "markdown",
      "metadata": {
        "id": "fPbPe0u3dUpj"
      },
      "source": [
        "#Problema 1"
      ]
    },
    {
      "cell_type": "markdown",
      "metadata": {
        "id": "CPdp3GFj9FIt"
      },
      "source": [
        "**En el conjunto de imagenes \"Unsupervised\" ¿Cuántas frutas distintas están representadas?**\n",
        "\n",
        "7 frutas distintas\n",
        "\n",
        "Para obtener este número primero tome las imágenes y cambie sus dimensiones de (100, 100, 3) a (30000), después con ayuda de PCA reduje sus dimensiones a (2), después de esto me apoye en el método de aprendizaje no supervisado K-means y lo cicle 10 veces, donde en cada iteración lo entrene con i clusters, donde i va de 1 a 10 dependiendo del numero del ciclo,  y obtuve su WCSS y lo grafique ya que donde se observará que casi no hay cambio seria el numero optimo de clusters. Una vez graficado considero que 7 es el cluster a partir del cual se observan menos cambios. "
      ]
    },
    {
      "cell_type": "code",
      "metadata": {
        "colab": {
          "base_uri": "https://localhost:8080/",
          "height": 424
        },
        "id": "m2WV8p_fdyXQ",
        "outputId": "6bf3c3a5-6c31-4e20-ab75-28b0dd3b4588"
      },
      "source": [
        "df = pd.read_csv(\"/content/drive/MyDrive/DL Tercer Parcial/fruit_data_P1.csv\")\n",
        "df"
      ],
      "execution_count": null,
      "outputs": [
        {
          "output_type": "execute_result",
          "data": {
            "text/html": [
              "<div>\n",
              "<style scoped>\n",
              "    .dataframe tbody tr th:only-of-type {\n",
              "        vertical-align: middle;\n",
              "    }\n",
              "\n",
              "    .dataframe tbody tr th {\n",
              "        vertical-align: top;\n",
              "    }\n",
              "\n",
              "    .dataframe thead th {\n",
              "        text-align: right;\n",
              "    }\n",
              "</style>\n",
              "<table border=\"1\" class=\"dataframe\">\n",
              "  <thead>\n",
              "    <tr style=\"text-align: right;\">\n",
              "      <th></th>\n",
              "      <th>File</th>\n",
              "    </tr>\n",
              "  </thead>\n",
              "  <tbody>\n",
              "    <tr>\n",
              "      <th>0</th>\n",
              "      <td>images_0000.png</td>\n",
              "    </tr>\n",
              "    <tr>\n",
              "      <th>1</th>\n",
              "      <td>images_0001.png</td>\n",
              "    </tr>\n",
              "    <tr>\n",
              "      <th>2</th>\n",
              "      <td>images_0002.png</td>\n",
              "    </tr>\n",
              "    <tr>\n",
              "      <th>3</th>\n",
              "      <td>images_0004.png</td>\n",
              "    </tr>\n",
              "    <tr>\n",
              "      <th>4</th>\n",
              "      <td>images_0005.png</td>\n",
              "    </tr>\n",
              "    <tr>\n",
              "      <th>...</th>\n",
              "      <td>...</td>\n",
              "    </tr>\n",
              "    <tr>\n",
              "      <th>761</th>\n",
              "      <td>images_0993.png</td>\n",
              "    </tr>\n",
              "    <tr>\n",
              "      <th>762</th>\n",
              "      <td>images_0994.png</td>\n",
              "    </tr>\n",
              "    <tr>\n",
              "      <th>763</th>\n",
              "      <td>images_0995.png</td>\n",
              "    </tr>\n",
              "    <tr>\n",
              "      <th>764</th>\n",
              "      <td>images_0998.png</td>\n",
              "    </tr>\n",
              "    <tr>\n",
              "      <th>765</th>\n",
              "      <td>images_0999.png</td>\n",
              "    </tr>\n",
              "  </tbody>\n",
              "</table>\n",
              "<p>766 rows × 1 columns</p>\n",
              "</div>"
            ],
            "text/plain": [
              "                File\n",
              "0    images_0000.png\n",
              "1    images_0001.png\n",
              "2    images_0002.png\n",
              "3    images_0004.png\n",
              "4    images_0005.png\n",
              "..               ...\n",
              "761  images_0993.png\n",
              "762  images_0994.png\n",
              "763  images_0995.png\n",
              "764  images_0998.png\n",
              "765  images_0999.png\n",
              "\n",
              "[766 rows x 1 columns]"
            ]
          },
          "metadata": {
            "tags": []
          },
          "execution_count": 34
        }
      ]
    },
    {
      "cell_type": "code",
      "metadata": {
        "id": "odHpARlOePII"
      },
      "source": [
        "# Leemos las imagenes y las guardamos en un array de numpy\n",
        "img_list = np.array(read_img(df))"
      ],
      "execution_count": null,
      "outputs": []
    },
    {
      "cell_type": "code",
      "metadata": {
        "colab": {
          "base_uri": "https://localhost:8080/"
        },
        "id": "PxRMHgIPaqpI",
        "outputId": "1c238aa7-adcd-468c-b870-70579abf4ce2"
      },
      "source": [
        "# Cambiamos las dimenciones de (766,100,100,3) a (766,30000)\n",
        "print(img_list.shape)\n",
        "img_list_re = img_list.reshape(766,100*100*3)\n",
        "img_list_re.shape"
      ],
      "execution_count": null,
      "outputs": [
        {
          "output_type": "stream",
          "text": [
            "(766, 100, 100, 3)\n"
          ],
          "name": "stdout"
        },
        {
          "output_type": "execute_result",
          "data": {
            "text/plain": [
              "(766, 30000)"
            ]
          },
          "metadata": {
            "tags": []
          },
          "execution_count": 35
        }
      ]
    },
    {
      "cell_type": "markdown",
      "metadata": {
        "id": "a6KfBH7h4D9v"
      },
      "source": [
        "###PCA\n"
      ]
    },
    {
      "cell_type": "code",
      "metadata": {
        "id": "9aqPKit44XHR"
      },
      "source": [
        "# Normalizamos los datos\n",
        "scaler=StandardScaler()\n",
        "# Calculo la media para poder hacer la transformacion\n",
        "scaler.fit(img_list_re)\n",
        "# Escalo los datos y los normalizo\n",
        "X_scaled=scaler.transform(img_list_re)\n",
        "\n",
        "# Instanciamos objeto PCA en 2 dimenciones y aplicamos\n",
        "pca=PCA(n_components=2)\n",
        "# Obtener los componentes principales\n",
        "pca.fit(X_scaled)\n",
        "# Convertimos nuestros datos con las nuevas dimensiones de PCA\n",
        "latent_vector=pca.transform(X_scaled)"
      ],
      "execution_count": null,
      "outputs": []
    },
    {
      "cell_type": "markdown",
      "metadata": {
        "id": "nBKcFxtL3_u4"
      },
      "source": [
        "###Post\n"
      ]
    },
    {
      "cell_type": "code",
      "metadata": {
        "colab": {
          "base_uri": "https://localhost:8080/"
        },
        "id": "Eqz8rP9SzUQE",
        "outputId": "0366313a-1be2-482b-a970-9eddd9c8a277"
      },
      "source": [
        "latent_vector"
      ],
      "execution_count": null,
      "outputs": [
        {
          "output_type": "execute_result",
          "data": {
            "text/plain": [
              "array([[ 72.64926  , 166.8163   ],\n",
              "       [ -1.7071781, -77.8976   ],\n",
              "       [ 11.032728 , -10.748303 ],\n",
              "       ...,\n",
              "       [159.63354  ,  46.686207 ],\n",
              "       [ 37.094917 , -50.791843 ],\n",
              "       [ 45.79676  ,  45.011993 ]], dtype=float32)"
            ]
          },
          "metadata": {
            "tags": []
          },
          "execution_count": 49
        }
      ]
    },
    {
      "cell_type": "code",
      "metadata": {
        "colab": {
          "base_uri": "https://localhost:8080/",
          "height": 295
        },
        "id": "bSsuv6QGF543",
        "outputId": "7c41e355-5fc5-4e52-d0cf-18cb3a0ea0ad"
      },
      "source": [
        "# Graficamos los valores obtenidos\n",
        "plt.scatter(latent_vector[:,0],latent_vector[:,1])\n",
        "plt.xlabel('Dimension 1')\n",
        "plt.ylabel('Dimension 2')\n",
        "plt.title('Data')\n",
        "plt.show()"
      ],
      "execution_count": null,
      "outputs": [
        {
          "output_type": "display_data",
          "data": {
            "image/png": "[encoded data removed]",
            "text/plain": [
              "<Figure size 432x288 with 1 Axes>"
            ]
          },
          "metadata": {
            "tags": [],
            "needs_background": "light"
          }
        }
      ]
    },
    {
      "cell_type": "code",
      "metadata": {
        "colab": {
          "base_uri": "https://localhost:8080/",
          "height": 295
        },
        "id": "oRRHOArR5H07",
        "outputId": "0bfec1ca-083e-45a8-d00b-428348a6eee8"
      },
      "source": [
        "# Calculamos el WCSS usando de 1 a 10 clusters\n",
        "wcss = []\n",
        "for i in range(1, 11):\n",
        "  kmeans = KMeans(n_clusters = i)\n",
        "  kmeans.fit(latent_vector)\n",
        "  wcss.append(kmeans.inertia_)\n",
        "\n",
        "# Greficamos los valores de WCSS obtenidos\n",
        "plt.plot(range(1, 11), wcss)\n",
        "plt.title('WCSS by Clusters')\n",
        "plt.xlabel('Number of clusters')\n",
        "plt.ylabel('WCSS')\n",
        "plt.grid(color='r', linestyle='dotted', linewidth=1)\n",
        "plt.show()"
      ],
      "execution_count": null,
      "outputs": [
        {
          "output_type": "display_data",
          "data": {
            "image/png": "[encoded data removed]",
            "text/plain": [
              "<Figure size 432x288 with 1 Axes>"
            ]
          },
          "metadata": {
            "tags": [],
            "needs_background": "light"
          }
        }
      ]
    },
    {
      "cell_type": "code",
      "metadata": {
        "colab": {
          "base_uri": "https://localhost:8080/",
          "height": 295
        },
        "id": "qVOHPv7Q4drS",
        "outputId": "6f1984d4-1ff7-4002-b13b-61f063ac8618"
      },
      "source": [
        "# Un vistazo mas cerda de los WCSS de clusters de 5 a 10\n",
        "plt.plot(range(5, 11), wcss[4:])\n",
        "plt.title('WCSS by Clusters')\n",
        "plt.xlabel('Number of clusters')\n",
        "plt.ylabel('WCSS')\n",
        "plt.grid(color='r', linestyle='dotted', linewidth=1)\n",
        "plt.show()"
      ],
      "execution_count": null,
      "outputs": [
        {
          "output_type": "display_data",
          "data": {
            "image/png": "[encoded data removed]",
            "text/plain": [
              "<Figure size 432x288 with 1 Axes>"
            ]
          },
          "metadata": {
            "tags": [],
            "needs_background": "light"
          }
        }
      ]
    },
    {
      "cell_type": "code",
      "metadata": {
        "colab": {
          "base_uri": "https://localhost:8080/",
          "height": 295
        },
        "id": "DEMxp0CDF9ns",
        "outputId": "7ef3e13a-c6e0-4101-bc55-8041ecd80cff"
      },
      "source": [
        "# Despues de lo visto previamente considero que 7 es el numero optimo de clusters\n",
        "# Entrenamos un modelo con 7 clusters\n",
        "model = KMeans(n_clusters=7, init='k-means++', n_init=100, max_iter=1000)\n",
        "km_clusters = model.fit_predict(latent_vector)\n",
        "\n",
        "# Funcion para graficar los clusters\n",
        "def plot_clusters(samples, clusters):\n",
        "  col_dic = {0:'blue',1:'green',2:\"r\",3:\"y\",4:\"m\",5:\"c\",6:\"K\"}\n",
        "  mrk_dic = {0:'*',1:'x',2:\"1\",3:\"2\",4:\"|\",5:\".\",6:\"+\"}\n",
        "  colors = [col_dic[x] for x in clusters]\n",
        "  markers = [mrk_dic[x] for x in clusters]\n",
        "  for sample in range(len(clusters)):\n",
        "      plt.scatter(samples[sample][0], samples[sample][1], color = colors[sample], marker=markers[sample], s=100)\n",
        "  plt.xlabel('Dimension 1')\n",
        "  plt.ylabel('Dimension 2')\n",
        "  plt.title('Assignments')\n",
        "  plt.show()\n",
        "\n",
        "# Graficamos los clusters\n",
        "plot_clusters(latent_vector, km_clusters)"
      ],
      "execution_count": null,
      "outputs": [
        {
          "output_type": "display_data",
          "data": {
            "image/png": "[encoded data removed]",
            "text/plain": [
              "<Figure size 432x288 with 1 Axes>"
            ]
          },
          "metadata": {
            "tags": [],
            "needs_background": "light"
          }
        }
      ]
    },
    {
      "cell_type": "markdown",
      "metadata": {
        "id": "dcZ7uW0u8gok"
      },
      "source": [
        "#Problema 2"
      ]
    },
    {
      "cell_type": "markdown",
      "metadata": {
        "id": "SJQ9imI69ENC"
      },
      "source": [
        "##Train"
      ]
    },
    {
      "cell_type": "code",
      "metadata": {
        "colab": {
          "base_uri": "https://localhost:8080/",
          "height": 424
        },
        "id": "CNgULOnb8jyY",
        "outputId": "af1ad646-62ec-4cda-8efb-99f9e742ab91"
      },
      "source": [
        "df = pd.read_csv(\"/content/drive/MyDrive/DL Tercer Parcial/fruit_data_P2_Train.csv\")\n",
        "df"
      ],
      "execution_count": null,
      "outputs": [
        {
          "output_type": "execute_result",
          "data": {
            "text/html": [
              "<div>\n",
              "<style scoped>\n",
              "    .dataframe tbody tr th:only-of-type {\n",
              "        vertical-align: middle;\n",
              "    }\n",
              "\n",
              "    .dataframe tbody tr th {\n",
              "        vertical-align: top;\n",
              "    }\n",
              "\n",
              "    .dataframe thead th {\n",
              "        text-align: right;\n",
              "    }\n",
              "</style>\n",
              "<table border=\"1\" class=\"dataframe\">\n",
              "  <thead>\n",
              "    <tr style=\"text-align: right;\">\n",
              "      <th></th>\n",
              "      <th>File</th>\n",
              "      <th>Fruit</th>\n",
              "    </tr>\n",
              "  </thead>\n",
              "  <tbody>\n",
              "    <tr>\n",
              "      <th>0</th>\n",
              "      <td>images_0003.png</td>\n",
              "      <td>Huckleberry</td>\n",
              "    </tr>\n",
              "    <tr>\n",
              "      <th>1</th>\n",
              "      <td>images_0007.png</td>\n",
              "      <td>Orange</td>\n",
              "    </tr>\n",
              "    <tr>\n",
              "      <th>2</th>\n",
              "      <td>images_0013.png</td>\n",
              "      <td>Strawberry</td>\n",
              "    </tr>\n",
              "    <tr>\n",
              "      <th>3</th>\n",
              "      <td>images_0016.png</td>\n",
              "      <td>Strawberry</td>\n",
              "    </tr>\n",
              "    <tr>\n",
              "      <th>4</th>\n",
              "      <td>images_0018.png</td>\n",
              "      <td>Huckleberry</td>\n",
              "    </tr>\n",
              "    <tr>\n",
              "      <th>...</th>\n",
              "      <td>...</td>\n",
              "      <td>...</td>\n",
              "    </tr>\n",
              "    <tr>\n",
              "      <th>182</th>\n",
              "      <td>images_0757.png</td>\n",
              "      <td>Huckleberry</td>\n",
              "    </tr>\n",
              "    <tr>\n",
              "      <th>183</th>\n",
              "      <td>images_0758.png</td>\n",
              "      <td>Strawberry</td>\n",
              "    </tr>\n",
              "    <tr>\n",
              "      <th>184</th>\n",
              "      <td>images_0766.png</td>\n",
              "      <td>Strawberry</td>\n",
              "    </tr>\n",
              "    <tr>\n",
              "      <th>185</th>\n",
              "      <td>images_0768.png</td>\n",
              "      <td>Strawberry</td>\n",
              "    </tr>\n",
              "    <tr>\n",
              "      <th>186</th>\n",
              "      <td>images_0778.png</td>\n",
              "      <td>Huckleberry</td>\n",
              "    </tr>\n",
              "  </tbody>\n",
              "</table>\n",
              "<p>187 rows × 2 columns</p>\n",
              "</div>"
            ],
            "text/plain": [
              "                File        Fruit\n",
              "0    images_0003.png  Huckleberry\n",
              "1    images_0007.png       Orange\n",
              "2    images_0013.png   Strawberry\n",
              "3    images_0016.png   Strawberry\n",
              "4    images_0018.png  Huckleberry\n",
              "..               ...          ...\n",
              "182  images_0757.png  Huckleberry\n",
              "183  images_0758.png   Strawberry\n",
              "184  images_0766.png   Strawberry\n",
              "185  images_0768.png   Strawberry\n",
              "186  images_0778.png  Huckleberry\n",
              "\n",
              "[187 rows x 2 columns]"
            ]
          },
          "metadata": {
            "tags": []
          },
          "execution_count": 50
        }
      ]
    },
    {
      "cell_type": "code",
      "metadata": {
        "id": "jtlZZytRHH6P"
      },
      "source": [
        "# Lo transformamos la categoria a un vector con valores binarios\n",
        "y = pd.get_dummies(df[\"Fruit\"]).values"
      ],
      "execution_count": null,
      "outputs": []
    },
    {
      "cell_type": "code",
      "metadata": {
        "id": "h3lib8C19nZ6"
      },
      "source": [
        "# Leemos las imagenes\n",
        "img_list = read_img(df)"
      ],
      "execution_count": null,
      "outputs": []
    },
    {
      "cell_type": "code",
      "metadata": {
        "id": "Iu3RXmrp-bWz",
        "colab": {
          "base_uri": "https://localhost:8080/"
        },
        "outputId": "333f9b31-e0f2-4419-f5ba-85879ab763c7"
      },
      "source": [
        "# Inicializamos el modelo\n",
        "model = Sequential([\n",
        " Conv2D(32, (3, 3), activation = 'relu', padding = 'same', input_shape = (100,100,3)),\n",
        " Conv2D(32, (3, 3), activation = 'relu', padding = 'same'),\n",
        " MaxPooling2D((2, 2)),\n",
        " Conv2D(28, (3, 3), activation = 'relu', padding = 'same'),\n",
        " Conv2D(28, (3, 3), activation = 'relu', padding = 'same'),\n",
        " MaxPooling2D((2, 2)),\n",
        " Flatten(),\n",
        " Dense(32, activation = 'relu'),\n",
        " Dense(64, activation='relu'),\n",
        " Dense(32, activation='relu'),\n",
        " Dense(3, activation = 'softmax')\n",
        "])\n",
        "model.compile(optimizer='adam', loss='categorical_crossentropy', metrics=['accuracy'])\n",
        "model.summary()"
      ],
      "execution_count": null,
      "outputs": [
        {
          "output_type": "stream",
          "text": [
            "Model: \"sequential\"\n",
            "_________________________________________________________________\n",
            "Layer (type)                 Output Shape              Param #   \n",
            "=================================================================\n",
            "conv2d (Conv2D)              (None, 100, 100, 32)      896       \n",
            "_________________________________________________________________\n",
            "conv2d_1 (Conv2D)            (None, 100, 100, 32)      9248      \n",
            "_________________________________________________________________\n",
            "max_pooling2d (MaxPooling2D) (None, 50, 50, 32)        0         \n",
            "_________________________________________________________________\n",
            "conv2d_2 (Conv2D)            (None, 50, 50, 28)        8092      \n",
            "_________________________________________________________________\n",
            "conv2d_3 (Conv2D)            (None, 50, 50, 28)        7084      \n",
            "_________________________________________________________________\n",
            "max_pooling2d_1 (MaxPooling2 (None, 25, 25, 28)        0         \n",
            "_________________________________________________________________\n",
            "flatten (Flatten)            (None, 17500)             0         \n",
            "_________________________________________________________________\n",
            "dense (Dense)                (None, 32)                560032    \n",
            "_________________________________________________________________\n",
            "dense_1 (Dense)              (None, 64)                2112      \n",
            "_________________________________________________________________\n",
            "dense_2 (Dense)              (None, 32)                2080      \n",
            "_________________________________________________________________\n",
            "dense_3 (Dense)              (None, 3)                 99        \n",
            "=================================================================\n",
            "Total params: 589,643\n",
            "Trainable params: 589,643\n",
            "Non-trainable params: 0\n",
            "_________________________________________________________________\n"
          ],
          "name": "stdout"
        }
      ]
    },
    {
      "cell_type": "code",
      "metadata": {
        "colab": {
          "base_uri": "https://localhost:8080/"
        },
        "id": "5a8ojcL2IMHF",
        "outputId": "cd002481-37c0-413d-8416-c3b12507d877"
      },
      "source": [
        "# Transformamos los datos a un array de numpy\n",
        "y = np.array(y)\n",
        "img_list = np.array(img_list)\n",
        "y.shape, img_list.shape"
      ],
      "execution_count": null,
      "outputs": [
        {
          "output_type": "execute_result",
          "data": {
            "text/plain": [
              "((187, 3), (187, 100, 100, 3))"
            ]
          },
          "metadata": {
            "tags": []
          },
          "execution_count": 54
        }
      ]
    },
    {
      "cell_type": "code",
      "metadata": {
        "colab": {
          "base_uri": "https://localhost:8080/"
        },
        "id": "JoKN0ZpM_Dla",
        "outputId": "a772e4e4-c0c7-47da-eef7-799900c24a05"
      },
      "source": [
        "# Entrenamos el modelo\n",
        "history = model.fit(img_list, y, batch_size=62, epochs=10)"
      ],
      "execution_count": null,
      "outputs": [
        {
          "output_type": "stream",
          "text": [
            "Epoch 1/10\n",
            "4/4 [==============================] - 33s 71ms/step - loss: 1.0769 - accuracy: 0.2768\n",
            "Epoch 2/10\n",
            "4/4 [==============================] - 0s 22ms/step - loss: 0.8690 - accuracy: 0.6185\n",
            "Epoch 3/10\n",
            "4/4 [==============================] - 0s 22ms/step - loss: 0.4932 - accuracy: 0.8358\n",
            "Epoch 4/10\n",
            "4/4 [==============================] - 0s 25ms/step - loss: 0.1177 - accuracy: 1.0000\n",
            "Epoch 5/10\n",
            "4/4 [==============================] - 0s 21ms/step - loss: 0.0013 - accuracy: 1.0000\n",
            "Epoch 6/10\n",
            "4/4 [==============================] - 0s 23ms/step - loss: 0.0022 - accuracy: 1.0000\n",
            "Epoch 7/10\n",
            "4/4 [==============================] - 0s 21ms/step - loss: 3.0420e-05 - accuracy: 1.0000\n",
            "Epoch 8/10\n",
            "4/4 [==============================] - 0s 22ms/step - loss: 1.7302e-05 - accuracy: 1.0000\n",
            "Epoch 9/10\n",
            "4/4 [==============================] - 0s 22ms/step - loss: 1.3742e-05 - accuracy: 1.0000\n",
            "Epoch 10/10\n",
            "4/4 [==============================] - 0s 21ms/step - loss: 4.1873e-04 - accuracy: 1.0000\n"
          ],
          "name": "stdout"
        }
      ]
    },
    {
      "cell_type": "code",
      "metadata": {
        "colab": {
          "base_uri": "https://localhost:8080/",
          "height": 279
        },
        "id": "-HOxKQg59UcT",
        "outputId": "77de8710-fbe1-4024-ad3c-02f214d9dff4"
      },
      "source": [
        "# Graficamos el accuracy y el loss\n",
        "plt.plot(history.history[\"accuracy\"])\n",
        "plt.plot(history.history[\"loss\"])\n",
        "plt.xlabel(\"Epochs\")\n",
        "plt.ylabel(\"accuracy\")\n",
        "plt.legend([\"accuracy\", \"loss\"])\n",
        "plt.show()"
      ],
      "execution_count": null,
      "outputs": [
        {
          "output_type": "display_data",
          "data": {
            "image/png": "[encoded data removed]",
            "text/plain": [
              "<Figure size 432x288 with 1 Axes>"
            ]
          },
          "metadata": {
            "tags": [],
            "needs_background": "light"
          }
        }
      ]
    },
    {
      "cell_type": "markdown",
      "metadata": {
        "id": "mOiaScXOhaSw"
      },
      "source": [
        "##Test"
      ]
    },
    {
      "cell_type": "code",
      "metadata": {
        "colab": {
          "base_uri": "https://localhost:8080/",
          "height": 1000
        },
        "id": "IeBlVTLYhlW7",
        "outputId": "ff97fa0b-2ffb-449e-ef4e-94f31023f836"
      },
      "source": [
        "df = pd.read_csv(\"/content/drive/MyDrive/DL Tercer Parcial/fruit_data_P2_Test.csv\")\n",
        "df"
      ],
      "execution_count": null,
      "outputs": [
        {
          "output_type": "execute_result",
          "data": {
            "text/html": [
              "<div>\n",
              "<style scoped>\n",
              "    .dataframe tbody tr th:only-of-type {\n",
              "        vertical-align: middle;\n",
              "    }\n",
              "\n",
              "    .dataframe tbody tr th {\n",
              "        vertical-align: top;\n",
              "    }\n",
              "\n",
              "    .dataframe thead th {\n",
              "        text-align: right;\n",
              "    }\n",
              "</style>\n",
              "<table border=\"1\" class=\"dataframe\">\n",
              "  <thead>\n",
              "    <tr style=\"text-align: right;\">\n",
              "      <th></th>\n",
              "      <th>File</th>\n",
              "    </tr>\n",
              "  </thead>\n",
              "  <tbody>\n",
              "    <tr>\n",
              "      <th>0</th>\n",
              "      <td>images_0783.png</td>\n",
              "    </tr>\n",
              "    <tr>\n",
              "      <th>1</th>\n",
              "      <td>images_0789.png</td>\n",
              "    </tr>\n",
              "    <tr>\n",
              "      <th>2</th>\n",
              "      <td>images_0793.png</td>\n",
              "    </tr>\n",
              "    <tr>\n",
              "      <th>3</th>\n",
              "      <td>images_0796.png</td>\n",
              "    </tr>\n",
              "    <tr>\n",
              "      <th>4</th>\n",
              "      <td>images_0798.png</td>\n",
              "    </tr>\n",
              "    <tr>\n",
              "      <th>5</th>\n",
              "      <td>images_0799.png</td>\n",
              "    </tr>\n",
              "    <tr>\n",
              "      <th>6</th>\n",
              "      <td>images_0804.png</td>\n",
              "    </tr>\n",
              "    <tr>\n",
              "      <th>7</th>\n",
              "      <td>images_0806.png</td>\n",
              "    </tr>\n",
              "    <tr>\n",
              "      <th>8</th>\n",
              "      <td>images_0813.png</td>\n",
              "    </tr>\n",
              "    <tr>\n",
              "      <th>9</th>\n",
              "      <td>images_0823.png</td>\n",
              "    </tr>\n",
              "    <tr>\n",
              "      <th>10</th>\n",
              "      <td>images_0827.png</td>\n",
              "    </tr>\n",
              "    <tr>\n",
              "      <th>11</th>\n",
              "      <td>images_0835.png</td>\n",
              "    </tr>\n",
              "    <tr>\n",
              "      <th>12</th>\n",
              "      <td>images_0836.png</td>\n",
              "    </tr>\n",
              "    <tr>\n",
              "      <th>13</th>\n",
              "      <td>images_0848.png</td>\n",
              "    </tr>\n",
              "    <tr>\n",
              "      <th>14</th>\n",
              "      <td>images_0858.png</td>\n",
              "    </tr>\n",
              "    <tr>\n",
              "      <th>15</th>\n",
              "      <td>images_0863.png</td>\n",
              "    </tr>\n",
              "    <tr>\n",
              "      <th>16</th>\n",
              "      <td>images_0870.png</td>\n",
              "    </tr>\n",
              "    <tr>\n",
              "      <th>17</th>\n",
              "      <td>images_0872.png</td>\n",
              "    </tr>\n",
              "    <tr>\n",
              "      <th>18</th>\n",
              "      <td>images_0873.png</td>\n",
              "    </tr>\n",
              "    <tr>\n",
              "      <th>19</th>\n",
              "      <td>images_0874.png</td>\n",
              "    </tr>\n",
              "    <tr>\n",
              "      <th>20</th>\n",
              "      <td>images_0881.png</td>\n",
              "    </tr>\n",
              "    <tr>\n",
              "      <th>21</th>\n",
              "      <td>images_0890.png</td>\n",
              "    </tr>\n",
              "    <tr>\n",
              "      <th>22</th>\n",
              "      <td>images_0900.png</td>\n",
              "    </tr>\n",
              "    <tr>\n",
              "      <th>23</th>\n",
              "      <td>images_0906.png</td>\n",
              "    </tr>\n",
              "    <tr>\n",
              "      <th>24</th>\n",
              "      <td>images_0908.png</td>\n",
              "    </tr>\n",
              "    <tr>\n",
              "      <th>25</th>\n",
              "      <td>images_0909.png</td>\n",
              "    </tr>\n",
              "    <tr>\n",
              "      <th>26</th>\n",
              "      <td>images_0914.png</td>\n",
              "    </tr>\n",
              "    <tr>\n",
              "      <th>27</th>\n",
              "      <td>images_0918.png</td>\n",
              "    </tr>\n",
              "    <tr>\n",
              "      <th>28</th>\n",
              "      <td>images_0925.png</td>\n",
              "    </tr>\n",
              "    <tr>\n",
              "      <th>29</th>\n",
              "      <td>images_0926.png</td>\n",
              "    </tr>\n",
              "    <tr>\n",
              "      <th>30</th>\n",
              "      <td>images_0928.png</td>\n",
              "    </tr>\n",
              "    <tr>\n",
              "      <th>31</th>\n",
              "      <td>images_0932.png</td>\n",
              "    </tr>\n",
              "    <tr>\n",
              "      <th>32</th>\n",
              "      <td>images_0942.png</td>\n",
              "    </tr>\n",
              "    <tr>\n",
              "      <th>33</th>\n",
              "      <td>images_0945.png</td>\n",
              "    </tr>\n",
              "    <tr>\n",
              "      <th>34</th>\n",
              "      <td>images_0948.png</td>\n",
              "    </tr>\n",
              "    <tr>\n",
              "      <th>35</th>\n",
              "      <td>images_0954.png</td>\n",
              "    </tr>\n",
              "    <tr>\n",
              "      <th>36</th>\n",
              "      <td>images_0956.png</td>\n",
              "    </tr>\n",
              "    <tr>\n",
              "      <th>37</th>\n",
              "      <td>images_0964.png</td>\n",
              "    </tr>\n",
              "    <tr>\n",
              "      <th>38</th>\n",
              "      <td>images_0967.png</td>\n",
              "    </tr>\n",
              "    <tr>\n",
              "      <th>39</th>\n",
              "      <td>images_0969.png</td>\n",
              "    </tr>\n",
              "    <tr>\n",
              "      <th>40</th>\n",
              "      <td>images_0976.png</td>\n",
              "    </tr>\n",
              "    <tr>\n",
              "      <th>41</th>\n",
              "      <td>images_0984.png</td>\n",
              "    </tr>\n",
              "    <tr>\n",
              "      <th>42</th>\n",
              "      <td>images_0985.png</td>\n",
              "    </tr>\n",
              "    <tr>\n",
              "      <th>43</th>\n",
              "      <td>images_0987.png</td>\n",
              "    </tr>\n",
              "    <tr>\n",
              "      <th>44</th>\n",
              "      <td>images_0989.png</td>\n",
              "    </tr>\n",
              "    <tr>\n",
              "      <th>45</th>\n",
              "      <td>images_0996.png</td>\n",
              "    </tr>\n",
              "    <tr>\n",
              "      <th>46</th>\n",
              "      <td>images_0997.png</td>\n",
              "    </tr>\n",
              "  </tbody>\n",
              "</table>\n",
              "</div>"
            ],
            "text/plain": [
              "               File\n",
              "0   images_0783.png\n",
              "1   images_0789.png\n",
              "2   images_0793.png\n",
              "3   images_0796.png\n",
              "4   images_0798.png\n",
              "5   images_0799.png\n",
              "6   images_0804.png\n",
              "7   images_0806.png\n",
              "8   images_0813.png\n",
              "9   images_0823.png\n",
              "10  images_0827.png\n",
              "11  images_0835.png\n",
              "12  images_0836.png\n",
              "13  images_0848.png\n",
              "14  images_0858.png\n",
              "15  images_0863.png\n",
              "16  images_0870.png\n",
              "17  images_0872.png\n",
              "18  images_0873.png\n",
              "19  images_0874.png\n",
              "20  images_0881.png\n",
              "21  images_0890.png\n",
              "22  images_0900.png\n",
              "23  images_0906.png\n",
              "24  images_0908.png\n",
              "25  images_0909.png\n",
              "26  images_0914.png\n",
              "27  images_0918.png\n",
              "28  images_0925.png\n",
              "29  images_0926.png\n",
              "30  images_0928.png\n",
              "31  images_0932.png\n",
              "32  images_0942.png\n",
              "33  images_0945.png\n",
              "34  images_0948.png\n",
              "35  images_0954.png\n",
              "36  images_0956.png\n",
              "37  images_0964.png\n",
              "38  images_0967.png\n",
              "39  images_0969.png\n",
              "40  images_0976.png\n",
              "41  images_0984.png\n",
              "42  images_0985.png\n",
              "43  images_0987.png\n",
              "44  images_0989.png\n",
              "45  images_0996.png\n",
              "46  images_0997.png"
            ]
          },
          "metadata": {
            "tags": []
          },
          "execution_count": 57
        }
      ]
    },
    {
      "cell_type": "code",
      "metadata": {
        "id": "fVdYfCYXhxXK"
      },
      "source": [
        "# Leemos las imagenes a predecir y las guardamos en un array de numpy\n",
        "img_test = np.array(read_img(df))"
      ],
      "execution_count": null,
      "outputs": []
    },
    {
      "cell_type": "code",
      "metadata": {
        "id": "xAes97BihLIE",
        "colab": {
          "base_uri": "https://localhost:8080/",
          "height": 1000
        },
        "outputId": "34dff049-e1b8-4deb-a1fc-5096d27523a5"
      },
      "source": [
        "# Hacamos la predicción\n",
        "predictions = model.predict(img_test)\n",
        "# Tomamos el indice mas grande para asignar la categoria\n",
        "df[\"predictions\"] = [np.argmax(x) for x in predictions]\n",
        "# Inicializamos un diccionario con la categoria corresponfiente a cada indice\n",
        "frutas = {\n",
        "    0:\"Huckleberry\",\n",
        "    1:\"Orange\",\n",
        "    2:\"Strawberry\"\n",
        "}\n",
        "# Clasificamos las imagenes\n",
        "df[\"Fruit\"] = [frutas[x] for x in df[\"predictions\"]]\n",
        "df"
      ],
      "execution_count": null,
      "outputs": [
        {
          "output_type": "execute_result",
          "data": {
            "text/html": [
              "<div>\n",
              "<style scoped>\n",
              "    .dataframe tbody tr th:only-of-type {\n",
              "        vertical-align: middle;\n",
              "    }\n",
              "\n",
              "    .dataframe tbody tr th {\n",
              "        vertical-align: top;\n",
              "    }\n",
              "\n",
              "    .dataframe thead th {\n",
              "        text-align: right;\n",
              "    }\n",
              "</style>\n",
              "<table border=\"1\" class=\"dataframe\">\n",
              "  <thead>\n",
              "    <tr style=\"text-align: right;\">\n",
              "      <th></th>\n",
              "      <th>File</th>\n",
              "      <th>predictions</th>\n",
              "      <th>Fruit</th>\n",
              "    </tr>\n",
              "  </thead>\n",
              "  <tbody>\n",
              "    <tr>\n",
              "      <th>0</th>\n",
              "      <td>images_0783.png</td>\n",
              "      <td>2</td>\n",
              "      <td>Strawberry</td>\n",
              "    </tr>\n",
              "    <tr>\n",
              "      <th>1</th>\n",
              "      <td>images_0789.png</td>\n",
              "      <td>2</td>\n",
              "      <td>Strawberry</td>\n",
              "    </tr>\n",
              "    <tr>\n",
              "      <th>2</th>\n",
              "      <td>images_0793.png</td>\n",
              "      <td>0</td>\n",
              "      <td>Huckleberry</td>\n",
              "    </tr>\n",
              "    <tr>\n",
              "      <th>3</th>\n",
              "      <td>images_0796.png</td>\n",
              "      <td>0</td>\n",
              "      <td>Huckleberry</td>\n",
              "    </tr>\n",
              "    <tr>\n",
              "      <th>4</th>\n",
              "      <td>images_0798.png</td>\n",
              "      <td>1</td>\n",
              "      <td>Orange</td>\n",
              "    </tr>\n",
              "    <tr>\n",
              "      <th>5</th>\n",
              "      <td>images_0799.png</td>\n",
              "      <td>0</td>\n",
              "      <td>Huckleberry</td>\n",
              "    </tr>\n",
              "    <tr>\n",
              "      <th>6</th>\n",
              "      <td>images_0804.png</td>\n",
              "      <td>1</td>\n",
              "      <td>Orange</td>\n",
              "    </tr>\n",
              "    <tr>\n",
              "      <th>7</th>\n",
              "      <td>images_0806.png</td>\n",
              "      <td>2</td>\n",
              "      <td>Strawberry</td>\n",
              "    </tr>\n",
              "    <tr>\n",
              "      <th>8</th>\n",
              "      <td>images_0813.png</td>\n",
              "      <td>0</td>\n",
              "      <td>Huckleberry</td>\n",
              "    </tr>\n",
              "    <tr>\n",
              "      <th>9</th>\n",
              "      <td>images_0823.png</td>\n",
              "      <td>1</td>\n",
              "      <td>Orange</td>\n",
              "    </tr>\n",
              "    <tr>\n",
              "      <th>10</th>\n",
              "      <td>images_0827.png</td>\n",
              "      <td>0</td>\n",
              "      <td>Huckleberry</td>\n",
              "    </tr>\n",
              "    <tr>\n",
              "      <th>11</th>\n",
              "      <td>images_0835.png</td>\n",
              "      <td>2</td>\n",
              "      <td>Strawberry</td>\n",
              "    </tr>\n",
              "    <tr>\n",
              "      <th>12</th>\n",
              "      <td>images_0836.png</td>\n",
              "      <td>1</td>\n",
              "      <td>Orange</td>\n",
              "    </tr>\n",
              "    <tr>\n",
              "      <th>13</th>\n",
              "      <td>images_0848.png</td>\n",
              "      <td>2</td>\n",
              "      <td>Strawberry</td>\n",
              "    </tr>\n",
              "    <tr>\n",
              "      <th>14</th>\n",
              "      <td>images_0858.png</td>\n",
              "      <td>1</td>\n",
              "      <td>Orange</td>\n",
              "    </tr>\n",
              "    <tr>\n",
              "      <th>15</th>\n",
              "      <td>images_0863.png</td>\n",
              "      <td>2</td>\n",
              "      <td>Strawberry</td>\n",
              "    </tr>\n",
              "    <tr>\n",
              "      <th>16</th>\n",
              "      <td>images_0870.png</td>\n",
              "      <td>0</td>\n",
              "      <td>Huckleberry</td>\n",
              "    </tr>\n",
              "    <tr>\n",
              "      <th>17</th>\n",
              "      <td>images_0872.png</td>\n",
              "      <td>0</td>\n",
              "      <td>Huckleberry</td>\n",
              "    </tr>\n",
              "    <tr>\n",
              "      <th>18</th>\n",
              "      <td>images_0873.png</td>\n",
              "      <td>2</td>\n",
              "      <td>Strawberry</td>\n",
              "    </tr>\n",
              "    <tr>\n",
              "      <th>19</th>\n",
              "      <td>images_0874.png</td>\n",
              "      <td>0</td>\n",
              "      <td>Huckleberry</td>\n",
              "    </tr>\n",
              "    <tr>\n",
              "      <th>20</th>\n",
              "      <td>images_0881.png</td>\n",
              "      <td>0</td>\n",
              "      <td>Huckleberry</td>\n",
              "    </tr>\n",
              "    <tr>\n",
              "      <th>21</th>\n",
              "      <td>images_0890.png</td>\n",
              "      <td>1</td>\n",
              "      <td>Orange</td>\n",
              "    </tr>\n",
              "    <tr>\n",
              "      <th>22</th>\n",
              "      <td>images_0900.png</td>\n",
              "      <td>1</td>\n",
              "      <td>Orange</td>\n",
              "    </tr>\n",
              "    <tr>\n",
              "      <th>23</th>\n",
              "      <td>images_0906.png</td>\n",
              "      <td>1</td>\n",
              "      <td>Orange</td>\n",
              "    </tr>\n",
              "    <tr>\n",
              "      <th>24</th>\n",
              "      <td>images_0908.png</td>\n",
              "      <td>2</td>\n",
              "      <td>Strawberry</td>\n",
              "    </tr>\n",
              "    <tr>\n",
              "      <th>25</th>\n",
              "      <td>images_0909.png</td>\n",
              "      <td>2</td>\n",
              "      <td>Strawberry</td>\n",
              "    </tr>\n",
              "    <tr>\n",
              "      <th>26</th>\n",
              "      <td>images_0914.png</td>\n",
              "      <td>2</td>\n",
              "      <td>Strawberry</td>\n",
              "    </tr>\n",
              "    <tr>\n",
              "      <th>27</th>\n",
              "      <td>images_0918.png</td>\n",
              "      <td>0</td>\n",
              "      <td>Huckleberry</td>\n",
              "    </tr>\n",
              "    <tr>\n",
              "      <th>28</th>\n",
              "      <td>images_0925.png</td>\n",
              "      <td>1</td>\n",
              "      <td>Orange</td>\n",
              "    </tr>\n",
              "    <tr>\n",
              "      <th>29</th>\n",
              "      <td>images_0926.png</td>\n",
              "      <td>1</td>\n",
              "      <td>Orange</td>\n",
              "    </tr>\n",
              "    <tr>\n",
              "      <th>30</th>\n",
              "      <td>images_0928.png</td>\n",
              "      <td>1</td>\n",
              "      <td>Orange</td>\n",
              "    </tr>\n",
              "    <tr>\n",
              "      <th>31</th>\n",
              "      <td>images_0932.png</td>\n",
              "      <td>2</td>\n",
              "      <td>Strawberry</td>\n",
              "    </tr>\n",
              "    <tr>\n",
              "      <th>32</th>\n",
              "      <td>images_0942.png</td>\n",
              "      <td>2</td>\n",
              "      <td>Strawberry</td>\n",
              "    </tr>\n",
              "    <tr>\n",
              "      <th>33</th>\n",
              "      <td>images_0945.png</td>\n",
              "      <td>0</td>\n",
              "      <td>Huckleberry</td>\n",
              "    </tr>\n",
              "    <tr>\n",
              "      <th>34</th>\n",
              "      <td>images_0948.png</td>\n",
              "      <td>2</td>\n",
              "      <td>Strawberry</td>\n",
              "    </tr>\n",
              "    <tr>\n",
              "      <th>35</th>\n",
              "      <td>images_0954.png</td>\n",
              "      <td>2</td>\n",
              "      <td>Strawberry</td>\n",
              "    </tr>\n",
              "    <tr>\n",
              "      <th>36</th>\n",
              "      <td>images_0956.png</td>\n",
              "      <td>1</td>\n",
              "      <td>Orange</td>\n",
              "    </tr>\n",
              "    <tr>\n",
              "      <th>37</th>\n",
              "      <td>images_0964.png</td>\n",
              "      <td>1</td>\n",
              "      <td>Orange</td>\n",
              "    </tr>\n",
              "    <tr>\n",
              "      <th>38</th>\n",
              "      <td>images_0967.png</td>\n",
              "      <td>1</td>\n",
              "      <td>Orange</td>\n",
              "    </tr>\n",
              "    <tr>\n",
              "      <th>39</th>\n",
              "      <td>images_0969.png</td>\n",
              "      <td>1</td>\n",
              "      <td>Orange</td>\n",
              "    </tr>\n",
              "    <tr>\n",
              "      <th>40</th>\n",
              "      <td>images_0976.png</td>\n",
              "      <td>2</td>\n",
              "      <td>Strawberry</td>\n",
              "    </tr>\n",
              "    <tr>\n",
              "      <th>41</th>\n",
              "      <td>images_0984.png</td>\n",
              "      <td>0</td>\n",
              "      <td>Huckleberry</td>\n",
              "    </tr>\n",
              "    <tr>\n",
              "      <th>42</th>\n",
              "      <td>images_0985.png</td>\n",
              "      <td>2</td>\n",
              "      <td>Strawberry</td>\n",
              "    </tr>\n",
              "    <tr>\n",
              "      <th>43</th>\n",
              "      <td>images_0987.png</td>\n",
              "      <td>1</td>\n",
              "      <td>Orange</td>\n",
              "    </tr>\n",
              "    <tr>\n",
              "      <th>44</th>\n",
              "      <td>images_0989.png</td>\n",
              "      <td>0</td>\n",
              "      <td>Huckleberry</td>\n",
              "    </tr>\n",
              "    <tr>\n",
              "      <th>45</th>\n",
              "      <td>images_0996.png</td>\n",
              "      <td>1</td>\n",
              "      <td>Orange</td>\n",
              "    </tr>\n",
              "    <tr>\n",
              "      <th>46</th>\n",
              "      <td>images_0997.png</td>\n",
              "      <td>1</td>\n",
              "      <td>Orange</td>\n",
              "    </tr>\n",
              "  </tbody>\n",
              "</table>\n",
              "</div>"
            ],
            "text/plain": [
              "               File  predictions        Fruit\n",
              "0   images_0783.png            2   Strawberry\n",
              "1   images_0789.png            2   Strawberry\n",
              "2   images_0793.png            0  Huckleberry\n",
              "3   images_0796.png            0  Huckleberry\n",
              "4   images_0798.png            1       Orange\n",
              "5   images_0799.png            0  Huckleberry\n",
              "6   images_0804.png            1       Orange\n",
              "7   images_0806.png            2   Strawberry\n",
              "8   images_0813.png            0  Huckleberry\n",
              "9   images_0823.png            1       Orange\n",
              "10  images_0827.png            0  Huckleberry\n",
              "11  images_0835.png            2   Strawberry\n",
              "12  images_0836.png            1       Orange\n",
              "13  images_0848.png            2   Strawberry\n",
              "14  images_0858.png            1       Orange\n",
              "15  images_0863.png            2   Strawberry\n",
              "16  images_0870.png            0  Huckleberry\n",
              "17  images_0872.png            0  Huckleberry\n",
              "18  images_0873.png            2   Strawberry\n",
              "19  images_0874.png            0  Huckleberry\n",
              "20  images_0881.png            0  Huckleberry\n",
              "21  images_0890.png            1       Orange\n",
              "22  images_0900.png            1       Orange\n",
              "23  images_0906.png            1       Orange\n",
              "24  images_0908.png            2   Strawberry\n",
              "25  images_0909.png            2   Strawberry\n",
              "26  images_0914.png            2   Strawberry\n",
              "27  images_0918.png            0  Huckleberry\n",
              "28  images_0925.png            1       Orange\n",
              "29  images_0926.png            1       Orange\n",
              "30  images_0928.png            1       Orange\n",
              "31  images_0932.png            2   Strawberry\n",
              "32  images_0942.png            2   Strawberry\n",
              "33  images_0945.png            0  Huckleberry\n",
              "34  images_0948.png            2   Strawberry\n",
              "35  images_0954.png            2   Strawberry\n",
              "36  images_0956.png            1       Orange\n",
              "37  images_0964.png            1       Orange\n",
              "38  images_0967.png            1       Orange\n",
              "39  images_0969.png            1       Orange\n",
              "40  images_0976.png            2   Strawberry\n",
              "41  images_0984.png            0  Huckleberry\n",
              "42  images_0985.png            2   Strawberry\n",
              "43  images_0987.png            1       Orange\n",
              "44  images_0989.png            0  Huckleberry\n",
              "45  images_0996.png            1       Orange\n",
              "46  images_0997.png            1       Orange"
            ]
          },
          "metadata": {
            "tags": []
          },
          "execution_count": 59
        }
      ]
    },
    {
      "cell_type": "code",
      "metadata": {
        "id": "2ax5-0tbiY86"
      },
      "source": [
        "# Guardamos el dataframe\n",
        "df.to_csv(\"/content/drive/MyDrive/DL Tercer Parcial/fruit_data_1807660.csv\")"
      ],
      "execution_count": null,
      "outputs": []
    }
  ]
}